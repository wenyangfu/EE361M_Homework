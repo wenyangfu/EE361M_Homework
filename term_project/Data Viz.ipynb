{
 "cells": [
  {
   "cell_type": "code",
   "execution_count": 1,
   "metadata": {
    "collapsed": false,
    "scrolled": true
   },
   "outputs": [],
   "source": [
    "from collections import Counter\n",
    "from wordcloud import WordCloud\n",
    "import matplotlib.pyplot as plt\n",
    "import numpy as np"
   ]
  },
  {
   "cell_type": "code",
   "execution_count": 2,
   "metadata": {
    "collapsed": true,
    "scrolled": true
   },
   "outputs": [],
   "source": [
    "%matplotlib inline"
   ]
  },
  {
   "cell_type": "code",
   "execution_count": 3,
   "metadata": {
    "collapsed": true,
    "scrolled": true
   },
   "outputs": [],
   "source": [
    "import feature_extraction\n",
    "import scoring\n",
    "\n",
    "from text_preprocessor import TextPreprocessor\n",
    "from main import get_candidates"
   ]
  },
  {
   "cell_type": "code",
   "execution_count": 4,
   "metadata": {
    "collapsed": true,
    "scrolled": true
   },
   "outputs": [],
   "source": [
    "citations = TextPreprocessor()"
   ]
  },
  {
   "cell_type": "code",
   "execution_count": 5,
   "metadata": {
    "collapsed": false,
    "scrolled": true
   },
   "outputs": [],
   "source": [
    "def show_wordcloud(data):\n",
    "    plt.figure(figsize = (8,6))\n",
    "    wordcloud = WordCloud().fit_words(data)\n",
    "    plt.imshow(wordcloud, aspect='auto')\n",
    "    plt.axis(\"off\")"
   ]
  },
  {
   "cell_type": "code",
   "execution_count": 6,
   "metadata": {
    "collapsed": false,
    "scrolled": true
   },
   "outputs": [],
   "source": [
    "def generate_ranking(method, pmid, bigger_is_better=True):\n",
    "    candidates = get_candidates(citations, pmid)\n",
    "    if len(candidates) == 0: print(pmid)\n",
    "    scored = [(method(citations, pmid, c), c) for c in candidates]\n",
    "    return [candidate for _, candidate in sorted(scored, reverse=bigger_is_better)]"
   ]
  },
  {
   "cell_type": "code",
   "execution_count": 7,
   "metadata": {
    "collapsed": false,
    "scrolled": true
   },
   "outputs": [],
   "source": [
    "def get_predictions(method, bigger_is_better=True):\n",
    "    return [generate_ranking(method, pmid, bigger_is_better) for pmid in citations.articles]"
   ]
  },
  {
   "cell_type": "code",
   "execution_count": 8,
   "metadata": {
    "collapsed": true,
    "scrolled": true
   },
   "outputs": [],
   "source": [
    "def evaluate_for_k(actual, predicted, k=25):\n",
    "    trimmed_rankings = []\n",
    "    for ranking in predicted:\n",
    "        if k < len(ranking): trimmed_rankings.append(ranking[:k])\n",
    "        else: trimmed_rankings.append(ranking)\n",
    "    return scoring.get_scores(trimmed_rankings, actual)"
   ]
  },
  {
   "cell_type": "code",
   "execution_count": 9,
   "metadata": {
    "collapsed": false,
    "scrolled": true
   },
   "outputs": [],
   "source": [
    "def get_roc_vals(method, bigger_is_better=True):\n",
    "    predicted = get_predictions(method, bigger_is_better)\n",
    "    actual = [citations[pmid]['mesh'] for pmid in citations.articles]\n",
    "    return [(k, evaluate_for_k(actual, predicted, k=k)) for k in range(1,30)]"
   ]
  },
  {
   "cell_type": "code",
   "execution_count": 10,
   "metadata": {
    "collapsed": false,
    "scrolled": true
   },
   "outputs": [],
   "source": [
    "def get_plot_points(label, method, color, bigger_is_better=True):\n",
    "    values = get_roc_vals(method, bigger_is_better)\n",
    "    precision = [precision for k, (precision, recall, fscore, map_) in values]\n",
    "    recall = [recall for k, (precision, recall, fscore, map_) in values]\n",
    "    fscore = [fscore for k, (precision, recall, fscore, map_) in values]\n",
    "    k = [k for k, (precision, recall, fscore, map_) in values]\n",
    "    map_ = [map_ for k, (precision, recall, fscore, map_) in values]\n",
    "    \n",
    "    return {\n",
    "        'pr' : {'x': precision, 'y': recall, 'label': label, 'c':color},\n",
    "        'kf' : {'x': k, 'y': fscore, 'label': label, 'c':color},\n",
    "        'km' : {'x': k, 'y': map_, 'label': label, 'c':color}\n",
    "    }  "
   ]
  },
  {
   "cell_type": "code",
   "execution_count": 11,
   "metadata": {
    "collapsed": true,
    "scrolled": true
   },
   "outputs": [],
   "source": [
    "def plot_figures(features, title='Ranking based on individual features'):\n",
    "    data = []\n",
    "    for label, (method, color) in features.items():\n",
    "        points = get_plot_points(label, method, color)\n",
    "        data.append(points)\n",
    "    \n",
    "    plt.figure(1, figsize=(40,12))\n",
    "    label = plt.suptitle(title)\n",
    "    label.set_fontsize(20)\n",
    "    \n",
    "    pr_plot = plt.subplot(1, 3, 1)\n",
    "    kf_plot = plt.subplot(1, 3, 2)\n",
    "    km_plot = plt.subplot(1, 3, 3)\n",
    "\n",
    "    \n",
    "    for points in data:\n",
    "        pr_plot.scatter(**points['pr'])\n",
    "        kf_plot.scatter(**points['kf'])\n",
    "        km_plot.scatter(**points['km'])\n",
    "        \n",
    "    plt.subplot(1, 3, 1)\n",
    "    plt.xlabel('Precision')\n",
    "    plt.ylabel('Recall')\n",
    "    plt.title('Recall vs Precision')\n",
    "    plt.legend(loc='upper right')\n",
    "    \n",
    "    plt.subplot(1, 3, 2)\n",
    "    plt.xlabel('Number of items in ranking')\n",
    "    plt.ylabel('F-Score')\n",
    "    plt.title('F-Score vs k')\n",
    "    plt.legend(loc='lower right')\n",
    "    \n",
    "    plt.subplot(1, 3, 3)\n",
    "    plt.xlabel('Number of items in ranking')\n",
    "    plt.ylabel('MAP')\n",
    "    plt.title('Mean Average Precision (MAP) vs k')\n",
    "    plt.legend(loc='lower right')"
   ]
  },
  {
   "cell_type": "code",
   "execution_count": 12,
   "metadata": {
    "collapsed": false,
    "scrolled": true
   },
   "outputs": [],
   "source": [
    "import random\n",
    "from collections import OrderedDict\n",
    "features = OrderedDict([\n",
    "    ('Bigram Overlap', (feature_extraction.bigram_overlap, 'pink')),\n",
    "    ('Unigram Overlap', (feature_extraction.unigram_overlap, 'purple')),\n",
    "    ('Neighboring Count', (feature_extraction.neighboring_count, 'r')),\n",
    "    ('Neighboring Similarity', (feature_extraction.neigboring_similarities, 'g')), \n",
    "    ('Citation Count', (feature_extraction.citation_count, 'y')),\n",
    "    ('Citation Similarity', (feature_extraction.citation_similarities, 'orange')),\n",
    "    ('Random', (lambda x,y,z:random.randint(0,200), 'b')),\n",
    "    ('Composite', (lambda x,y,z:feature_extraction.neighboring_count(x,y,z)+feature_extraction.citation_count(x,y,z), 'limegreen'))\n",
    "])"
   ]
  },
  {
   "cell_type": "code",
   "execution_count": null,
   "metadata": {
    "collapsed": false,
    "scrolled": true
   },
   "outputs": [],
   "source": [
    "plot_figures(features)"
   ]
  },
  {
   "cell_type": "code",
   "execution_count": 13,
   "metadata": {
    "collapsed": false,
    "scrolled": true
   },
   "outputs": [],
   "source": [
    "from functools import partial\n",
    "from feature_extraction import features as all_features\n",
    "class LNet():\n",
    "    def __init__(self):\n",
    "        self.current_file = None\n",
    "\n",
    "    def switch(self, num_iters, learning_rate):\n",
    "        with open('models/model_iter{0}_gamma{1}'.format(num_iters, learning_rate)) as params_file:\n",
    "            self.weights = np.asarray([float(weight) for weight in params_file.readlines()])\n",
    "\n",
    "    def get_score(self, citations, pmid, mesh_term):\n",
    "        feats = np.asarray([func(citations, pmid, mesh_term) for func in all_features])\n",
    "        return self.weights @ feats\n",
    "                \n",
    "\n",
    "\n",
    "def listnet_score(lnet, citations, pmid, mesh_term):\n",
    "    return lnet.get_score(citations, pmid, mesh_term)\n",
    "\n",
    "model = LNet()"
   ]
  },
  {
   "cell_type": "code",
   "execution_count": 14,
   "metadata": {
    "collapsed": true,
    "scrolled": true
   },
   "outputs": [],
   "source": [
    "def run_model(citations, pmid, mesh_term, iterations, gamma):\n",
    "    model.switch(iterations, gamma)\n",
    "    return listnet_score(model, citations, pmid, mesh_term)"
   ]
  },
  {
   "cell_type": "code",
   "execution_count": null,
   "metadata": {
    "collapsed": false,
    "scrolled": false
   },
   "outputs": [],
   "source": [
    "import random\n",
    "from collections import OrderedDict\n",
    "\n",
    "from itertools import product\n",
    "iterations = list(range(5,55,5))\n",
    "gamma = [0.01, 0.001]\n",
    "\n",
    "graphs = [('Citation Count', (feature_extraction.citation_count, 'y'))]\n",
    "for it, gm in product(iterations, gamma):\n",
    "    graphs.append(\n",
    "        (\n",
    "            'Model it: %d, gamma: %0.1f' % (it, gm),\n",
    "            (partial(run_model, iterations=it, gamma=gm),'r')\n",
    "        )\n",
    "    )\n",
    "\n",
    "huytay = OrderedDict(graphs)\n",
    "plot_figures(huytay)"
   ]
  },
  {
   "cell_type": "code",
   "execution_count": null,
   "metadata": {
    "collapsed": true,
    "scrolled": true
   },
   "outputs": [],
   "source": []
  },
  {
   "cell_type": "code",
   "execution_count": null,
   "metadata": {
    "collapsed": true
   },
   "outputs": [],
   "source": []
  }
 ],
 "metadata": {
  "kernelspec": {
   "display_name": "Python 3",
   "language": "python",
   "name": "python3"
  },
  "language_info": {
   "codemirror_mode": {
    "name": "ipython",
    "version": 3
   },
   "file_extension": ".py",
   "mimetype": "text/x-python",
   "name": "python",
   "nbconvert_exporter": "python",
   "pygments_lexer": "ipython3",
   "version": "3.5.1"
  }
 },
 "nbformat": 4,
 "nbformat_minor": 0
}

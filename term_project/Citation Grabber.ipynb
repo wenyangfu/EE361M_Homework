{
 "cells": [
  {
   "cell_type": "code",
   "execution_count": 1,
   "metadata": {
    "collapsed": true
   },
   "outputs": [],
   "source": [
    "import re\n",
    "import requests\n",
    "from bs4 import BeautifulSoup"
   ]
  },
  {
   "cell_type": "code",
   "execution_count": 2,
   "metadata": {
    "collapsed": true
   },
   "outputs": [],
   "source": [
    "def get_citations(pubmed_id):\n",
    "    url = 'http://www.ncbi.nlm.nih.gov/pmc/articles/PMC%s' % pubmed_id\n",
    "    page = requests.get(url)\n",
    "    soup = BeautifulSoup(page.content, \"lxml\")\n",
    "    pubmed_article_urls = [span.a['href'] for span in soup.findAll(\"span\", {\"class\":\"nowrap ref pubmed\"})]\n",
    "    pubmed_ids = {int(url.replace(r'/pubmed/', '')) for url in pubmed_article_urls}\n",
    "    return pubmed_ids"
   ]
  },
  {
   "cell_type": "code",
   "execution_count": 3,
   "metadata": {
    "collapsed": false,
    "scrolled": true
   },
   "outputs": [
    {
     "data": {
      "text/plain": [
       "{6344946,\n",
       " 7949911,\n",
       " 11079836,\n",
       " 11825149,\n",
       " 11825203,\n",
       " 15360816,\n",
       " 15919728,\n",
       " 16287934,\n",
       " 16779043,\n",
       " 16779044,\n",
       " 17646325,\n",
       " 17971238,\n",
       " 18436913,\n",
       " 19166973,\n",
       " 19376821,\n",
       " 19497938,\n",
       " 21303863,\n",
       " 21346958}"
      ]
     },
     "execution_count": 3,
     "metadata": {},
     "output_type": "execute_result"
    }
   ],
   "source": [
    "get_citations(3168302)"
   ]
  },
  {
   "cell_type": "code",
   "execution_count": 40,
   "metadata": {
    "collapsed": false
   },
   "outputs": [],
   "source": [
    "from Bio import Entrez\n",
    "\n",
    "# If we access the DB too much they will send an email before cutting us off.\n",
    "# Try to access in batches.\n",
    "Entrez.email = \"rohan.nagar@utexas.edu\"\n",
    "\n",
    "def get_main_headings(pubmed_ids):\n",
    "    handle = Entrez.efetch(db=\"pubmed\", id=pubmed_ids, rettype=\"medline\", retmode=\"xml\")\n",
    "    records = Entrez.read(handle)\n",
    "\n",
    "    main_headings = []\n",
    "    for record in records:\n",
    "        # Make sure it has MeSH terms before trying to get them\n",
    "        if 'MeshHeadingList' not in record['MedlineCitation']:\n",
    "            continue\n",
    "        \n",
    "        for heading in record['MedlineCitation']['MeshHeadingList']:\n",
    "            # If the heading is a main heading\n",
    "            if heading['DescriptorName'].attributes['MajorTopicYN'] == 'Y':\n",
    "                main_headings.append(heading['DescriptorName'])\n",
    "    \n",
    "    handle.close()\n",
    "    \n",
    "    return main_headings"
   ]
  },
  {
   "cell_type": "code",
   "execution_count": 39,
   "metadata": {
    "collapsed": false
   },
   "outputs": [
    {
     "data": {
      "text/plain": [
       "[StringElement('Abstracting and Indexing as Topic', attributes={'MajorTopicYN': 'Y', 'UI': 'D000043'}),\n",
       " StringElement('MEDLARS', attributes={'MajorTopicYN': 'Y', 'UI': 'D008523'})]"
      ]
     },
     "execution_count": 39,
     "metadata": {},
     "output_type": "execute_result"
    }
   ],
   "source": [
    "get_main_headings(\"6344946\")"
   ]
  }
 ],
 "metadata": {
  "kernelspec": {
   "display_name": "Python 3",
   "language": "python",
   "name": "python3"
  },
  "language_info": {
   "codemirror_mode": {
    "name": "ipython",
    "version": 3
   },
   "file_extension": ".py",
   "mimetype": "text/x-python",
   "name": "python",
   "nbconvert_exporter": "python",
   "pygments_lexer": "ipython3",
   "version": "3.5.1"
  }
 },
 "nbformat": 4,
 "nbformat_minor": 0
}

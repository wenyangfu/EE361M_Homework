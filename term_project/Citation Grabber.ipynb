{
 "cells": [
  {
   "cell_type": "code",
   "execution_count": 2,
   "metadata": {
    "collapsed": true
   },
   "outputs": [],
   "source": [
    "import re\n",
    "import requests\n",
    "from bs4 import BeautifulSoup"
   ]
  },
  {
   "cell_type": "code",
   "execution_count": 3,
   "metadata": {
    "collapsed": true
   },
   "outputs": [],
   "source": [
    "def get_citations(pubmed_id):\n",
    "    url = 'http://www.ncbi.nlm.nih.gov/pmc/articles/PMC%s' % pubmed_id\n",
    "    headers = {'User-Agent': 'Mozilla/5.0 (Macintosh; Intel Mac OS X 10_10_1) AppleWebKit/537.36 (KHTML, like Gecko) Chrome/39.0.2171.95 Safari/537.36'}\n",
    "    page = requests.get(url, headers=headers)\n",
    "    soup = BeautifulSoup(page.content, \"lxml\")\n",
    "    pubmed_article_urls = [span.a['href'] for span in soup.findAll(\"span\", {\"class\":\"nowrap ref pubmed\"})]\n",
    "    pubmed_ids = {int(url.replace(r'/pubmed/', '')) for url in pubmed_article_urls}\n",
    "    return list(map(str, pubmed_ids))"
   ]
  },
  {
   "cell_type": "code",
   "execution_count": 6,
   "metadata": {
    "collapsed": false
   },
   "outputs": [],
   "source": [
    "from Bio import Entrez\n",
    "\n",
    "# If we access the DB too much they will send an email before cutting us off.\n",
    "# Try to access in batches (not sure if it actually helps or not).\n",
    "Entrez.email = \"rohan.nagar@utexas.edu\"\n",
    "\n",
    "def get_article_info(pubmed_ids):\n",
    "    handle = Entrez.efetch(db=\"pubmed\", id=pubmed_ids, rettype=\"medline\", retmode=\"xml\")\n",
    "    records = Entrez.read(handle)\n",
    "\n",
    "    articles = []\n",
    "    for record in records:\n",
    "        article_info = dict()\n",
    "        \n",
    "        article_info['id'] = record['MedlineCitation']['PMID']\n",
    "        article_info['title'] = record['MedlineCitation']['Article']['ArticleTitle']\n",
    "        \n",
    "        # Get the abstract. It's formatted weird in the dict\n",
    "        abstract_list = record['MedlineCitation']['Article']['Abstract']['AbstractText']\n",
    "        abstract = \"\"\n",
    "        for s in abstract_list:\n",
    "            abstract += s\n",
    "        article_info['abstract'] = abstract\n",
    "        \n",
    "        headings = []\n",
    "        # Make sure it has MeSH terms before trying to get them\n",
    "        if 'MeshHeadingList' in record['MedlineCitation']:\n",
    "            for heading in record['MedlineCitation']['MeshHeadingList']:\n",
    "                term = heading['DescriptorName']\n",
    "                # If the heading is a main heading\n",
    "                if heading['DescriptorName'].attributes['MajorTopicYN'] == 'Y':\n",
    "                    term += '*'\n",
    "                \n",
    "                headings.append(term)        \n",
    "        article_info['terms'] = headings\n",
    "        \n",
    "        articles.append(article_info)\n",
    "    \n",
    "    handle.close()\n",
    "    \n",
    "    return articles"
   ]
  },
  {
   "cell_type": "code",
   "execution_count": 7,
   "metadata": {
    "collapsed": true
   },
   "outputs": [],
   "source": [
    "def write_to_file(f, original_id, citation_articles):\n",
    "    for article in citation_articles:\n",
    "        f.write('{}|orig|{}\\n'.format(article['id'], original_id))\n",
    "        f.write('{}|a|{}\\n'.format(article['id'], article['abstract']))\n",
    "        f.write('{}|t|{}\\n'.format(article['id'], article['title']))\n",
    "        \n",
    "        terms = \"\"\n",
    "        for term in article['terms']:\n",
    "            terms += '{}|'.format(term)\n",
    "            \n",
    "        f.write('{}|m|{}\\n'.format(article['id'], terms))"
   ]
  },
  {
   "cell_type": "code",
   "execution_count": 8,
   "metadata": {
    "collapsed": false
   },
   "outputs": [],
   "source": [
    "# Test\n",
    "citations = get_citations(3168302)\n",
    "citation_articles = get_article_info(citations)\n",
    "\n",
    "with open('testfile.txt', 'w') as f:\n",
    "    write_to_file(f, 3168302, citation_articles)"
   ]
  }
 ],
 "metadata": {
  "kernelspec": {
   "display_name": "Python 3",
   "language": "python",
   "name": "python3"
  },
  "language_info": {
   "codemirror_mode": {
    "name": "ipython",
    "version": 3
   },
   "file_extension": ".py",
   "mimetype": "text/x-python",
   "name": "python",
   "nbconvert_exporter": "python",
   "pygments_lexer": "ipython3",
   "version": "3.5.1"
  }
 },
 "nbformat": 4,
 "nbformat_minor": 0
}

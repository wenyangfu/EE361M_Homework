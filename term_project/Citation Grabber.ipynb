{
 "cells": [
  {
   "cell_type": "code",
   "execution_count": 1,
   "metadata": {
    "collapsed": true
   },
   "outputs": [],
   "source": [
    "import re\n",
    "import requests\n",
    "from bs4 import BeautifulSoup"
   ]
  },
  {
   "cell_type": "code",
   "execution_count": 2,
   "metadata": {
    "collapsed": true
   },
   "outputs": [],
   "source": [
    "def get_citations(pubmed_id):\n",
    "    url = 'http://www.ncbi.nlm.nih.gov/pmc/articles/PMC%s' % pubmed_id\n",
    "    page = requests.get(url)\n",
    "    soup = BeautifulSoup(page.content, \"lxml\")\n",
    "    pubmed_article_urls = [span.a['href'] for span in soup.findAll(\"span\", {\"class\":\"nowrap ref pubmed\"})]\n",
    "    pubmed_ids = {int(url.replace(r'/pubmed/', '')) for url in pubmed_article_urls}\n",
    "    return pubmed_ids"
   ]
  },
  {
   "cell_type": "code",
   "execution_count": 3,
   "metadata": {
    "collapsed": false
   },
   "outputs": [
    {
     "data": {
      "text/plain": [
       "{6344946,\n",
       " 7949911,\n",
       " 11079836,\n",
       " 11825149,\n",
       " 11825203,\n",
       " 15360816,\n",
       " 15919728,\n",
       " 16287934,\n",
       " 16779043,\n",
       " 16779044,\n",
       " 17646325,\n",
       " 17971238,\n",
       " 18436913,\n",
       " 19166973,\n",
       " 19376821,\n",
       " 19497938,\n",
       " 21303863,\n",
       " 21346958}"
      ]
     },
     "execution_count": 3,
     "metadata": {},
     "output_type": "execute_result"
    }
   ],
   "source": [
    "get_citations(3168302)"
   ]
  }
 ],
 "metadata": {
  "kernelspec": {
   "display_name": "Python 3",
   "language": "python",
   "name": "python3"
  },
  "language_info": {
   "codemirror_mode": {
    "name": "ipython",
    "version": 3
   },
   "file_extension": ".py",
   "mimetype": "text/x-python",
   "name": "python",
   "nbconvert_exporter": "python",
   "pygments_lexer": "ipython3",
   "version": "3.5.1"
  }
 },
 "nbformat": 4,
 "nbformat_minor": 0
}

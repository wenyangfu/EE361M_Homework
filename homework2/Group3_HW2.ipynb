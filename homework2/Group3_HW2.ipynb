{
 "cells": [
  {
   "cell_type": "markdown",
   "metadata": {},
   "source": [
    "## EE 361M Introduction to Data Mining - Assignment #2\n",
    "### Group 3: Wenyang Fu, Rohan Nagar, Zuhair Parvez"
   ]
  },
  {
   "cell_type": "markdown",
   "metadata": {
    "collapsed": true
   },
   "source": [
    "## Question 1: Sampling\n",
    "### 10 points\n",
    "\n",
    "1. CBS has come up with an extreme TV show, and each of its viewers either likes or hates it. (no middle ground here; we are in a 'black and white age'). CBS wants to estimate what fraction $p$ of its audience like the show by 'randomly' calling $n$ viewers and tallying their responses so as to estimate the true value of $p$ to a fractional  accuracy of within $\\pm \\epsilon$%, with a confidence of $(1-\\alpha) \\times 100$%. For $\\alpha =  0.1$, $\\epsilon = 0.02$ (i.e. your answer will be $\\hat{p} \\pm 0.02$), what is the minimum value of $n$ needed if (i) true value $p = 0.5$ and (ii) $p = 0.95$? \n",
    "%(First try to do this yourself knowing that you have a binomial distribution, which can be approximated by a normal distribution. If you cannot, consult an undergrad stats book.)\n",
    "2. Suppose for a certain value  of $p$ and choice of $\\epsilon$, you calculate that you will need (at least) 1000 samples for $\\alpha = 0.1$. You now decide to obtain  a more accurate answer by either (i) reducing $\\alpha$ to 0.05, keeping the same $\\epsilon$ or by (ii) reducing $\\epsilon$ by a factor of 2 from the original value, but maintaining  $\\alpha = 0.1$.  In each case how many samples would you need now?"
   ]
  },
  {
   "cell_type": "markdown",
   "metadata": {},
   "source": [
    "## Question 1.1 (part i)\n",
    "By the central limit theorem, $X\\sim B(n, p=0.5)$ can only be approximated by a Gaussian when $n\\gt30$ and $np$, $n(1-p)\\gt5$. The smallest value of $n$ that will fulfill these conditions would be $31$. However, we also have to take into account the minimum number of samples we need to estimate the true proportion, denoted by the formula:\n",
    "\n",
    "$$n\\ge p(1-p) * \\bigg(\\frac{z_{\\alpha/2}}{\\epsilon}\\bigg)^2$$\n",
    "\n",
    "In this particular case, $z_{\\alpha/2} \\sim \\pm1.65, \\epsilon = .02,$ and $p=0.5$. Plugging these numbers in, we get:\n",
    "\n",
    "$$n\\ge .25 * \\bigg(\\frac{1.65}{.02}\\bigg)^2$$\n",
    "$$n\\ge 1701.5625$$\n",
    "\n",
    "Thus, the minimum number of samples we need to fulfill all conditions would be $n\\ge1702$.\n",
    "\n",
    "\n",
    "## Question 1.1 (part ii)\n",
    "By the CLT, $X\\sim B(n, p=0.95)$ can only be approximated by a Gaussian when $n\\gt30$ and $np$, $n(1-p)\\gt5$. The smallest value of $n$ that will fulfill these conditions would be $101$, calculated by computing $n(1-.95)\\gt5$. However, we also have to take into account the minimum number of samples we need to estimate the true proportion.\n",
    "In this particular case, $z_{\\alpha/2} \\sim \\pm1.65, \\epsilon = .02,$ and $p=0.95$. Then:\n",
    "\n",
    "$$n\\ge .95(1-.95) * \\bigg(\\frac{1.65}{.02}\\bigg)^2$$\n",
    "$$n\\ge 323.296875$$\n",
    "\n",
    "Thus, the minimum number of samples we need to fulfill all conditions would be $n\\ge324$.\n",
    "\n",
    "## Question 1.2 (part i)\n",
    "\n",
    "We are given $n=1000$, $\\alpha = .1$, $z_{\\alpha/2}\\sim1.65$\n",
    "\n",
    "Since $\\alpha$ changed to .05, $z_{\\alpha/2}\\sim1.96$. We must multiply both sides of our inequality by $(\\frac{1.96}{1.65})^2$, which means we now need $n=1412$ samples to estimate the true proportion.\n",
    "\n",
    "## Question 1.2 (part ii)\n",
    "\n",
    "Since we halved our $\\epsilon$, we will need to multiply both sides of our inequality by $(\\frac{1}{2})^2$, which means that we now need $n=4000$ samples to estimate the true proportion."
   ]
  },
  {
   "cell_type": "markdown",
   "metadata": {},
   "source": [
    "## Question 2: Republican Presidental Debate\n",
    "### 10 points\n",
    "\n",
    "In this question we will be analyzing text data from one of the recent presidental debates. I have included code below to grab the data for you from the New York Times.\n",
    "\n",
    "1. Create a set of the frequency of utterance of  all the distinct words spoken by candidates, and then use it to create a histogram (with 30 bins) of word counts. Thus a bin is a range of count values and the corresponding \"y\" value is the number of words whose count falls in this range. What is interesting about this distribution? What are the 10 most common words?\n",
    "2. Remove the 100 most common words from vocabulary. Meaning that if you ever see this word, get rid of it. Now create a new python dictionary for each candidate that is a single list of all the words spoken by this candidate (ignoring these most common words). What are the 10 most common words for Trump, Rubio, and Cruz? How do their words differ?\n",
    "3. Using our dictionary from number 2, how many words did each speaker speak? Who spoke the most? Who is the outlier?\n",
    "4. Count the percentage of time each person uses the words (I, I'm, me, mine). When doing this convert all words to lower case. Create a bar plot of this percentage for each candidate with bars from largest to smallest. Use dictionary that has all words (doesn't exclude most common). What does the plot show?\n",
    "\n",
    "Hints:\n",
    "1. Look at python Counter.\n",
    "2. Just split text on a space. This isn't perfect, but will be fine."
   ]
  },
  {
   "cell_type": "code",
   "execution_count": 1,
   "metadata": {
    "collapsed": false
   },
   "outputs": [],
   "source": [
    "import requests\n",
    "from bs4 import BeautifulSoup\n",
    "from collections import defaultdict\n",
    "from collections import Counter\n",
    "\n",
    "url = 'http://www.nytimes.com/2015/11/11/us/politics/transcript-republican-presidential-debate.html'\n",
    "# requests gets the source code from the url and extracts it as text\n",
    "html = requests.get(url).text\n",
    "# beautifulsoup is a library that takes in text source code and returns a structured format of that\n",
    "# source code that you can more easily search and parse.\n",
    "soup = BeautifulSoup(html, 'html5lib')\n",
    "# get all the 'p' tags from the source with class = 'story-body-text'\n",
    "# this was determined by looking at the source code\n",
    "# the first and last paragraphs are intro and ending\n",
    "paragraphs = soup('p', {'class': 'story-body-text'})[1:-1]\n",
    "candidates = ['BUSH', 'TRUMP', 'RUBIO', \n",
    "              'CARSON', 'FIORINA', 'KASICH', 'CRUZ', 'PAUL']\n",
    "\n",
    "def text_to_dict(paragraph_array):\n",
    "    '''takes an array of text paragraphs from debate and returns dict \n",
    "    where key is person and value is list of text spoken by that candidate'''\n",
    "    # dict is like a hash map. defaultdict lets you specify what types of values will be in your hash map\n",
    "    d = defaultdict(list)\n",
    "    # just a default speaker that won't end up in our returned data\n",
    "    # will get replaced when an actual speaker is found\n",
    "    speaker = \"<START>\"\n",
    "    for paragraph in paragraph_array:\n",
    "        words = paragraph.text.split(' ')\n",
    "        first_word = words[0]\n",
    "        # only new speaker when have SPEAKER: format\n",
    "        if first_word[-1] == \":\":\n",
    "            speaker = first_word[:-1]\n",
    "        # only keep candidates text\n",
    "        if speaker in candidates:\n",
    "            d[speaker].append(words[1:])\n",
    "    return d\n",
    "\n",
    "speaker_dict = text_to_dict(paragraphs)"
   ]
  },
  {
   "cell_type": "markdown",
   "metadata": {},
   "source": [
    "## Question 2.1"
   ]
  },
  {
   "cell_type": "code",
   "execution_count": 2,
   "metadata": {
    "collapsed": false
   },
   "outputs": [
    {
     "name": "stdout",
     "output_type": "stream",
     "text": [
      "[3310   47   15    7    4    2    0    0    2    2    2    0    0    2    1\n",
      "    0    0    0    0    1    0    0    0    0    0    0    0    0    0    1]\n"
     ]
    },
    {
     "name": "stderr",
     "output_type": "stream",
     "text": [
      "/Users/rohannagar/anaconda/lib/python3.5/site-packages/matplotlib/__init__.py:872: UserWarning: axes.color_cycle is deprecated and replaced with axes.prop_cycle; please use the latter.\n",
      "  warnings.warn(self.msg_depr % (key, alt_key))\n"
     ]
    },
    {
     "data": {
      "image/png": "[encoded data removed]",
      "text/plain": [
       "<matplotlib.figure.Figure at 0x10730f5c0>"
      ]
     },
     "metadata": {},
     "output_type": "display_data"
    },
    {
     "name": "stdout",
     "output_type": "stream",
     "text": [
      "10 most common words: [('the', 775), ('to', 508), ('a', 365), ('of', 360), ('and', 352), ('we', 267), ('that', 261), ('is', 258), ('in', 254), ('I', 232)]\n"
     ]
    }
   ],
   "source": [
    "import numpy as np\n",
    "import matplotlib.pyplot as plt\n",
    "import seaborn as sns\n",
    "%matplotlib inline\n",
    "\n",
    "def count_words(speaker_dict):\n",
    "    word_counts = Counter()\n",
    "    for k,v in speaker_dict.items(): \n",
    "        # every value in speaker_dict is a nested list of lists.\n",
    "        # use nested list comprehension to flatten the nested list\n",
    "        words = [word for paragraph in v for word in paragraph]\n",
    "        for word in words:\n",
    "            word_counts[word] += 1\n",
    "    return word_counts\n",
    "\n",
    "word_counts = count_words(speaker_dict)\n",
    "# Unsorted word counts, now without keys\n",
    "counts = [v for k,v in word_counts.items()]\n",
    "hist, bin_edges = np.histogram(counts, bins=30)\n",
    "print(hist)\n",
    "plt.hist(counts, bins=30)\n",
    "plt.show()\n",
    "print(\"10 most common words: {}\".format(word_counts.most_common(10)))"
   ]
  },
  {
   "cell_type": "markdown",
   "metadata": {},
   "source": [
    "The distribution is interesting because it is extremely long-tailed. Most words are spoken with low frequency, but a few words (mainly particles and pronouns) are spoken with extremely high frequency. The ten most common words are listed above as (word, count)."
   ]
  },
  {
   "cell_type": "markdown",
   "metadata": {},
   "source": [
    "## Question 2.2"
   ]
  },
  {
   "cell_type": "code",
   "execution_count": 3,
   "metadata": {
    "collapsed": false
   },
   "outputs": [
    {
     "name": "stdout",
     "output_type": "stream",
     "text": [
      "Candidate TRUMP's ten most common words are:\n",
      "[('country', 10), ('come', 9), ('country.', 8), ('ever', 8), ('tell', 6), ('right', 6), ('nobody', 6), ('in,', 5), ('United', 5), ('into', 5)]\n",
      "\n",
      "Candidate RUBIO's ten most common words are:\n",
      "[('important', 9), ('job', 8), ('ever', 8), ('new', 8), ('21st', 7), ('most', 7), ('world', 6), ('America', 6), ('better', 6), ('This', 6)]\n",
      "\n",
      "Candidate CRUZ's ten most common words are:\n",
      "[('which', 9), ('economic', 9), ('her', 7), ('Washington', 7), ('And,', 6), ('you’re', 6), ('pay', 6), ('put', 6), ('that,', 6), ('tax,', 6)]\n",
      "\n"
     ]
    }
   ],
   "source": [
    "# 100 most common words, which we will need to remove.\n",
    "top_words = [word for (word,count) in word_counts.most_common(100)]\n",
    "\n",
    "def candidate_words_filtered(speaker_dict):\n",
    "    words_by_candidate = defaultdict(list)\n",
    "    for k,v in speaker_dict.items(): \n",
    "        # every value in speaker_dict is a nested list of lists.\n",
    "        # use nested list comprehension to flatten the nested list\n",
    "        words = [word for paragraph in v for word in paragraph]\n",
    "        # Remove the 100 most common words from the list of all words\n",
    "        words_no_outliers = [word for word in words if not any(outlier == word for outlier in top_words)]\n",
    "#         print(len(words))\n",
    "#         print(len(words_no_outliers))\n",
    "        for word in words_no_outliers:\n",
    "            if k in words_by_candidate:\n",
    "                words_by_candidate[k].append(word)\n",
    "            else:\n",
    "                words_by_candidate[k] = [word]\n",
    "    return words_by_candidate\n",
    "\n",
    "words_by_candidates = candidate_words_filtered(speaker_dict)\n",
    "\n",
    "def top_ten_words(candidate_name):\n",
    "    word_counts = Counter(words_by_candidates[candidate_name])\n",
    "    top_ten = word_counts.most_common(10)\n",
    "    print(\"Candidate {}'s ten most common words are:\\n{}\\n\".format(candidate_name, top_ten))\n",
    "\n",
    "top_ten_words(\"TRUMP\")\n",
    "top_ten_words(\"RUBIO\")\n",
    "top_ten_words(\"CRUZ\")\n"
   ]
  },
  {
   "cell_type": "markdown",
   "metadata": {},
   "source": [
    "## Question 2.3"
   ]
  },
  {
   "cell_type": "code",
   "execution_count": 4,
   "metadata": {
    "collapsed": false
   },
   "outputs": [
    {
     "name": "stdout",
     "output_type": "stream",
     "text": [
      "Candidate CARSON spoke 679 words\n",
      "Candidate FIORINA spoke 1000 words\n",
      "Candidate KASICH spoke 1099 words\n",
      "Candidate PAUL spoke 828 words\n",
      "Candidate BUSH spoke 972 words\n",
      "Candidate CRUZ spoke 1131 words\n",
      "Candidate RUBIO spoke 1124 words\n",
      "Candidate TRUMP spoke 984 words\n",
      "Candidate CRUZ spoke the most words with a count of 1131 words\n"
     ]
    }
   ],
   "source": [
    "def candidate_word_count(candidate_name):\n",
    "    return Counter(words_by_candidates[candidate_name])\n",
    "\n",
    "candidate_counters = {name: candidate_word_count(name) for name in candidates}\n",
    "most_talkative = \"\"\n",
    "most_words = 0\n",
    "for name, counter in candidate_counters.items():\n",
    "    num_words_spoken = sum(counter.values())\n",
    "    if num_words_spoken > most_words:\n",
    "        most_words = num_words_spoken\n",
    "        most_talkative = name\n",
    "    print(\"Candidate {} spoke {} words\".format(name, num_words_spoken))\n",
    "print(\"Candidate {} spoke the most words with a count of {} words\".format(most_talkative, most_words))\n"
   ]
  },
  {
   "cell_type": "markdown",
   "metadata": {},
   "source": [
    "All candidate's word counts are listed above. It looks like Carson is the outlier, speaking the least with only 679 words."
   ]
  },
  {
   "cell_type": "markdown",
   "metadata": {},
   "source": [
    "## Question 2.4"
   ]
  },
  {
   "cell_type": "code",
   "execution_count": 5,
   "metadata": {
    "collapsed": false
   },
   "outputs": [
    {
     "name": "stdout",
     "output_type": "stream",
     "text": [
      "[('KASICH', 2.310654685494223), ('CARSON', 2.154046997389034), ('TRUMP', 2.1390374331550803), ('PAUL', 1.698886936145284), ('FIORINA', 1.600413009808983), ('RUBIO', 1.1970927746900384), ('CRUZ', 1.150483202945237), ('BUSH', 0.7272727272727273)]\n"
     ]
    },
    {
     "data": {
      "image/png": "[encoded data removed]",
      "text/plain": [
       "<matplotlib.figure.Figure at 0x10730f588>"
      ]
     },
     "metadata": {},
     "output_type": "display_data"
    }
   ],
   "source": [
    "from __future__ import division\n",
    "\n",
    "def candidate_words(speaker_dict):\n",
    "    words_by_candidate = defaultdict(list)\n",
    "    for k,v in speaker_dict.items(): \n",
    "        # every value in speaker_dict is a nested list of lists.\n",
    "        # use nested list comprehension to flatten the nested list\n",
    "        words = [word.lower() for paragraph in v for word in paragraph]\n",
    "        for word in words:\n",
    "            if k in words_by_candidate:\n",
    "                words_by_candidate[k].append(word)\n",
    "            else:\n",
    "                words_by_candidate[k] = [word]\n",
    "    return words_by_candidate\n",
    "\n",
    "words_by_candidates = candidate_words(speaker_dict)\n",
    "candidate_counters = {name: candidate_word_count(name) for name in candidates}\n",
    "\n",
    "def narcissist_frequency(candidate_name):\n",
    "    # Calculates the % of time each person uses words\n",
    "    counter = candidate_counters[candidate_name]\n",
    "    narcissist_words = ['i\\'m', 'i', 'me', 'mine']\n",
    "    narcissism_count = sum([counter[word] for word in narcissist_words])\n",
    "    total_count = sum(counter.values())\n",
    "    return 100* narcissism_count / total_count\n",
    "\n",
    "# Need to print frequencies in descending order\n",
    "narcissism_freq = Counter({name: narcissist_frequency(name) for name in candidates})\n",
    "y_vals = [freq[1] for freq in narcissism_freq.most_common()]\n",
    "print(narcissism_freq.most_common())\n",
    "plt.bar(range(len(y_vals)), y_vals)\n",
    "plt.show()\n",
    "\n"
   ]
  },
  {
   "cell_type": "markdown",
   "metadata": {},
   "source": [
    "Kasich talks the most about himself, while Bush talks the least about himself."
   ]
  },
  {
   "cell_type": "markdown",
   "metadata": {},
   "source": [
    "## Queston 3: Principal Component Analysis\n",
    "### 15 points\n",
    "\n",
    "In this question, you will explore an application of PCA.\n",
    "\n",
    "1. Convert your data from 2.2 to a vectorized format. This means you will have a row for each candidate and a column for each word in your data. A column for a candidate will contain the number of times that candidate used that word. Use [CountVectorizer](http://scikit-learn.org/stable/modules/feature_extraction.html) from sklearn with min_df = 1.\n",
    "2. Convert your data from a sparse matrix to a dense array using .toarray() and then scale it to have mean zero and standard deviation of 1. See [here](http://scikit-learn.org/stable/modules/preprocessing.html) for help.\n",
    "2. Plot the explained variance as a function of the number of PCA components (called a scree plot). Use sklearn's PCA functionality to do this.\n",
    "3. Now pick the top two principal components and project the data onto the respective dimensions. Visualize the data in a scatter plot and label each point with the candidate's name. Who are the outliers? Use sklearn and matplotlib for this. \n",
    "4.  In what sense is PCA an optimal feature extraction technique? Describe a situation where you would prefer feature selection to (linear) feature extraction, even though the former  is a special case of the latter."
   ]
  },
  {
   "cell_type": "markdown",
   "metadata": {},
   "source": [
    "## Question 3.1"
   ]
  },
  {
   "cell_type": "code",
   "execution_count": 6,
   "metadata": {
    "collapsed": false
   },
   "outputs": [
    {
     "data": {
      "text/plain": [
       "<8x2206 sparse matrix of type '<class 'numpy.int64'>'\n",
       "\twith 4385 stored elements in Compressed Sparse Row format>"
      ]
     },
     "execution_count": 6,
     "metadata": {},
     "output_type": "execute_result"
    }
   ],
   "source": [
    "from sklearn.feature_extraction.text import CountVectorizer\n",
    "\n",
    "candidate_word_corpus = candidate_words_filtered(speaker_dict)\n",
    "candidates = candidate_word_corpus.keys()\n",
    "candidate_word_corpus = [' '.join(v) for v in candidate_word_corpus.values()]\n",
    "\n",
    "vectorizer = CountVectorizer(min_df=1)\n",
    "vectorized_corpus = vectorizer.fit_transform(candidate_word_corpus)\n",
    "vectorized_corpus"
   ]
  },
  {
   "cell_type": "markdown",
   "metadata": {},
   "source": [
    "## Question 3.2"
   ]
  },
  {
   "cell_type": "code",
   "execution_count": 7,
   "metadata": {
    "collapsed": false
   },
   "outputs": [
    {
     "name": "stderr",
     "output_type": "stream",
     "text": [
      "/Users/rohannagar/anaconda/lib/python3.5/site-packages/sklearn/utils/validation.py:420: DataConversionWarning: Data with input dtype int64 was converted to float64 by the scale function.\n",
      "  warnings.warn(msg, DataConversionWarning)\n"
     ]
    },
    {
     "data": {
      "text/plain": [
       "array([[-1.15470054,  1.58885982,  0.94387981, ..., -0.37796447,\n",
       "        -0.76249285, -0.37796447],\n",
       "       [-0.57735027, -1.08711461, -1.21355975, ...,  2.64575131,\n",
       "        -0.15249857, -0.37796447],\n",
       "       [ 1.73205081, -0.41812101, -1.21355975, ..., -0.37796447,\n",
       "         0.45749571, -0.37796447],\n",
       "       ..., \n",
       "       [ 1.15470054,  1.58885982,  0.94387981, ..., -0.37796447,\n",
       "        -0.76249285, -0.37796447],\n",
       "       [-1.15470054, -1.08711461,  0.94387981, ..., -0.37796447,\n",
       "        -0.76249285, -0.37796447],\n",
       "       [-0.57735027, -0.41812101,  0.94387981, ..., -0.37796447,\n",
       "        -0.76249285, -0.37796447]])"
      ]
     },
     "execution_count": 7,
     "metadata": {},
     "output_type": "execute_result"
    }
   ],
   "source": [
    "from sklearn import preprocessing\n",
    "\n",
    "vectorized_corpus_array = vectorized_corpus.toarray()\n",
    "vectorized_corpus_array = preprocessing.scale(vectorized_corpus_array)\n",
    "vectorized_corpus_array"
   ]
  },
  {
   "cell_type": "markdown",
   "metadata": {},
   "source": [
    "## Question 3.3"
   ]
  },
  {
   "cell_type": "code",
   "execution_count": 8,
   "metadata": {
    "collapsed": false
   },
   "outputs": [
    {
     "data": {
      "image/png": "[encoded data removed]",
      "text/plain": [
       "<matplotlib.figure.Figure at 0x10c2c8710>"
      ]
     },
     "metadata": {},
     "output_type": "display_data"
    }
   ],
   "source": [
    "from sklearn.decomposition import PCA\n",
    "\n",
    "pca = PCA()\n",
    "pca.fit(vectorized_corpus_array)\n",
    "\n",
    "fig, ax = plt.subplots()\n",
    "individual = ax.bar(np.arange(8), pca.explained_variance_ratio_, width=0.35)\n",
    "\n",
    "pca_explained_variance_cumulative = np.cumsum(pca.explained_variance_ratio_)\n",
    "cumulative = ax.plot(np.arange(8), pca_explained_variance_cumulative, 'ro')\n",
    "ax.axis([0, 8, 0, 1.1])\n",
    "ax.set_ylabel('% of variance explained')\n",
    "_ = ax.set_xticklabels(['PC'+str(i) for i in range(8)])"
   ]
  },
  {
   "cell_type": "markdown",
   "metadata": {},
   "source": [
    "## Question 3.4"
   ]
  },
  {
   "cell_type": "code",
   "execution_count": 9,
   "metadata": {
    "collapsed": false
   },
   "outputs": [
    {
     "data": {
      "image/png": "[encoded data removed]",
      "text/plain": [
       "<matplotlib.figure.Figure at 0x10d488c88>"
      ]
     },
     "metadata": {},
     "output_type": "display_data"
    }
   ],
   "source": [
    "pca_n_2 = PCA(n_components=2)\n",
    "projected_corpus_array = pca_n_2.fit(vectorized_corpus_array).transform(vectorized_corpus_array)\n",
    "colors = ['red', 'blue', 'green', 'orange', 'magenta', 'yellow', 'black', 'cyan']\n",
    "\n",
    "plt.figure()\n",
    "plt.axis([-20, 100, -50, 40])\n",
    "for color, index, candidate in zip(colors, range(8), candidates):\n",
    "    plt.scatter(projected_corpus_array[index, 0], projected_corpus_array[index, 1], c=color, label=candidate)\n",
    "_ = plt.legend()"
   ]
  },
  {
   "cell_type": "markdown",
   "metadata": {},
   "source": [
    "Kasich, Rubio, and Cruz appear to be outliers in this projection."
   ]
  },
  {
   "cell_type": "markdown",
   "metadata": {},
   "source": [
    "## Question 3.5"
   ]
  },
  {
   "cell_type": "markdown",
   "metadata": {},
   "source": [
    "## Question 4: Robust Regression\n",
    "### 5 points\n",
    "\n",
    "In this question we will be exploring using a regression technique that is more robust to outliers. I provide some code below that injects outlier points into the original medv and lstat data from the housing dataset. This problem looks into how robust regression can help in the presence of outliers.\n",
    "\n",
    "1. Using the original data, plot lstat on the x-axis and log(medv) on the y-axis of a scatter plot with the line of best fit from a linear regression on the plot as well. Do the same, but with the data that includes the outlier values. What changes with the best fit line? Specifically, how does the slope change?\n",
    "2. Now run a linear regression with a Huber loss on the data including the outliers and create the same plot as above, but this time with the fit from the Huber loss regression (using all the data). What has changed (comment on the slope as well)? Note: Use SGDRegressor from sklearn with 500 iterations and no penalty.\n",
    "3. Explain why the huber loss is more robust to outliers.\n",
    "\n",
    "Note:  Use plot's with xlim = (-5, 40) and ylim = (1, 5). These set the range for the x any y axes."
   ]
  },
  {
   "cell_type": "code",
   "execution_count": 6,
   "metadata": {
    "collapsed": false
   },
   "outputs": [],
   "source": [
    "import pandas as pd\n",
    "import numpy as np\n",
    "\n",
    "housing_data = pd.read_csv(\"https://archive.ics.uci.edu/ml/machine-learning-databases/housing/housing.data\",\n",
    "                   delim_whitespace=True, header=None,\n",
    "                   names = ['CRIM', 'ZN', 'INDUS', 'CHAS', 'NOX', 'RM', 'AGE', 'DIS', 'RAD', 'TAX', 'PTRATIO',\n",
    "                           'B', 'LSTAT', 'MEDV'])\n",
    "housing_data = housing_data.dropna()\n",
    "lstat = housing_data.LSTAT.values\n",
    "medv = housing_data.MEDV.values\n",
    "medv_std = np.std(medv)\n",
    "lstat_std = np.std(lstat)\n",
    "np.random.seed(42)\n",
    "medv_outliers = np.random.normal(1, 1, 5)\n",
    "lstat_outliers = np.random.normal(1, 1, 5)\n",
    "medv_with_outliers = np.append(medv, medv_outliers)\n",
    "lstat_with_outliers = np.append(lstat, lstat_outliers)"
   ]
  },
  {
   "cell_type": "markdown",
   "metadata": {},
   "source": [
    "# Question 5: Visualization using Bokeh\n",
    "## 10 points\n",
    "\n",
    "In this problem, you'll build an interactive visualization. Bokeh is a Python interactive visualization library that targets modern web browsers for presentation. For more information on Bokeh, see http://bokeh.pydata.org/en/latest/. The problem statement is as follows:\n",
    "\n",
    "Using the [auto-mpg](http://archive.ics.uci.edu/ml/machine-learning-databases/auto-mpg/auto-mpg.data-original) data, your goal is to build a Bokeh visualization which allows the user explore how MPG varies with horsepower and weight. You will create a visualization that allows the user to toggle the Y axis of a scatter plot between horsepower and weight. With the x-axis always being MPG.\n",
    "\n",
    "Hints: \n",
    "1. You can make use of Select widgets.\n",
    "2. See: http://bokeh.pydata.org/en/latest/docs/user_guide/interaction.html#javascript-callbacks. Specifically look at the CustomJS for Widgets under Callbacks and the Select widget. \n",
    "3. See: http://bokeh.pydata.org/en/latest/docs/reference/plotting.html. Look for the scatter API.\n",
    "4. See: http://bokeh.pydata.org/en/0.10.0/docs/user_guide/styling.html#labels. For labeling axes.\n",
    "5. Use output_notebook() from Bokeh to output the plot to your notebook\n",
    "\n",
    "We have made available a sample screenshot of our Bokeh app that supports the above requirements. Your interface should look similar to the screenshots."
   ]
  },
  {
   "cell_type": "code",
   "execution_count": null,
   "metadata": {
    "collapsed": true
   },
   "outputs": [],
   "source": []
  }
 ],
 "metadata": {
  "kernelspec": {
   "display_name": "Python 3",
   "language": "python",
   "name": "python3"
  },
  "language_info": {
   "codemirror_mode": {
    "name": "ipython",
    "version": 3
   },
   "file_extension": ".py",
   "mimetype": "text/x-python",
   "name": "python",
   "nbconvert_exporter": "python",
   "pygments_lexer": "ipython3",
   "version": "3.5.1"
  }
 },
 "nbformat": 4,
 "nbformat_minor": 0
}

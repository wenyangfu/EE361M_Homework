{
 "cells": [
  {
   "cell_type": "code",
   "execution_count": 1,
   "metadata": {
    "collapsed": true
   },
   "outputs": [],
   "source": [
    "%matplotlib inline"
   ]
  },
  {
   "cell_type": "code",
   "execution_count": 2,
   "metadata": {
    "collapsed": true
   },
   "outputs": [],
   "source": [
    "import numpy\n",
    "import pandas\n",
    "import matplotlib.pyplot as plot\n",
    "import seaborn"
   ]
  },
  {
   "cell_type": "code",
   "execution_count": 3,
   "metadata": {
    "collapsed": false
   },
   "outputs": [
    {
     "name": "stdout",
     "output_type": "stream",
     "text": [
      "(657, 11)\n"
     ]
    }
   ],
   "source": [
    "student_data = pandas.read_csv(\"studentdata.csv\", sep=' ', quoting=1)\n",
    "print(student_data.shape)\n",
    "student_data = student_data.dropna()"
   ]
  },
  {
   "cell_type": "code",
   "execution_count": 4,
   "metadata": {
    "collapsed": false
   },
   "outputs": [
    {
     "data": {
      "text/html": [
       "<div>\n",
       "<table border=\"1\" class=\"dataframe\">\n",
       "  <thead>\n",
       "    <tr style=\"text-align: right;\">\n",
       "      <th></th>\n",
       "      <th>Student</th>\n",
       "      <th>Height</th>\n",
       "      <th>Gender</th>\n",
       "      <th>Shoes</th>\n",
       "      <th>Number</th>\n",
       "      <th>Dvds</th>\n",
       "      <th>ToSleep</th>\n",
       "      <th>WakeUp</th>\n",
       "      <th>Haircut</th>\n",
       "      <th>Job</th>\n",
       "      <th>Drink</th>\n",
       "    </tr>\n",
       "  </thead>\n",
       "  <tbody>\n",
       "    <tr>\n",
       "      <th>1</th>\n",
       "      <td>1</td>\n",
       "      <td>67</td>\n",
       "      <td>female</td>\n",
       "      <td>10</td>\n",
       "      <td>5</td>\n",
       "      <td>10</td>\n",
       "      <td>-2.5</td>\n",
       "      <td>5.5</td>\n",
       "      <td>60</td>\n",
       "      <td>30.0</td>\n",
       "      <td>water</td>\n",
       "    </tr>\n",
       "    <tr>\n",
       "      <th>2</th>\n",
       "      <td>2</td>\n",
       "      <td>64</td>\n",
       "      <td>female</td>\n",
       "      <td>20</td>\n",
       "      <td>7</td>\n",
       "      <td>5</td>\n",
       "      <td>1.5</td>\n",
       "      <td>8.0</td>\n",
       "      <td>0</td>\n",
       "      <td>20.0</td>\n",
       "      <td>pop</td>\n",
       "    </tr>\n",
       "    <tr>\n",
       "      <th>3</th>\n",
       "      <td>3</td>\n",
       "      <td>61</td>\n",
       "      <td>female</td>\n",
       "      <td>12</td>\n",
       "      <td>2</td>\n",
       "      <td>6</td>\n",
       "      <td>-1.5</td>\n",
       "      <td>7.5</td>\n",
       "      <td>48</td>\n",
       "      <td>0.0</td>\n",
       "      <td>milk</td>\n",
       "    </tr>\n",
       "    <tr>\n",
       "      <th>4</th>\n",
       "      <td>4</td>\n",
       "      <td>61</td>\n",
       "      <td>female</td>\n",
       "      <td>3</td>\n",
       "      <td>6</td>\n",
       "      <td>40</td>\n",
       "      <td>2.0</td>\n",
       "      <td>8.5</td>\n",
       "      <td>10</td>\n",
       "      <td>0.0</td>\n",
       "      <td>water</td>\n",
       "    </tr>\n",
       "    <tr>\n",
       "      <th>5</th>\n",
       "      <td>5</td>\n",
       "      <td>70</td>\n",
       "      <td>male</td>\n",
       "      <td>4</td>\n",
       "      <td>5</td>\n",
       "      <td>6</td>\n",
       "      <td>0.0</td>\n",
       "      <td>9.0</td>\n",
       "      <td>15</td>\n",
       "      <td>17.5</td>\n",
       "      <td>pop</td>\n",
       "    </tr>\n",
       "  </tbody>\n",
       "</table>\n",
       "</div>"
      ],
      "text/plain": [
       "   Student  Height  Gender  Shoes  Number  Dvds  ToSleep  WakeUp  Haircut  \\\n",
       "1        1      67  female     10       5    10     -2.5     5.5       60   \n",
       "2        2      64  female     20       7     5      1.5     8.0        0   \n",
       "3        3      61  female     12       2     6     -1.5     7.5       48   \n",
       "4        4      61  female      3       6    40      2.0     8.5       10   \n",
       "5        5      70    male      4       5     6      0.0     9.0       15   \n",
       "\n",
       "    Job  Drink  \n",
       "1  30.0  water  \n",
       "2  20.0    pop  \n",
       "3   0.0   milk  \n",
       "4   0.0  water  \n",
       "5  17.5    pop  "
      ]
     },
     "execution_count": 4,
     "metadata": {},
     "output_type": "execute_result"
    }
   ],
   "source": [
    "student_data.head()"
   ]
  },
  {
   "cell_type": "code",
   "execution_count": 5,
   "metadata": {
    "collapsed": false
   },
   "outputs": [
    {
     "data": {
      "image/png": "[encoded data removed]",
      "text/plain": [
       "<matplotlib.figure.Figure at 0x109ecc438>"
      ]
     },
     "metadata": {},
     "output_type": "display_data"
    }
   ],
   "source": [
    "shoes_histogram = plot.hist(student_data.Shoes.values, bins=20)\n",
    "plot.title('Shoes')\n",
    "seaborn.despine()"
   ]
  },
  {
   "cell_type": "code",
   "execution_count": 6,
   "metadata": {
    "collapsed": false
   },
   "outputs": [
    {
     "data": {
      "image/png": "[encoded data removed]",
      "text/plain": [
       "<matplotlib.figure.Figure at 0x109ecca58>"
      ]
     },
     "metadata": {},
     "output_type": "display_data"
    }
   ],
   "source": [
    "# Based on http://stackoverflow.com/questions/26406056/a-lognormal-distribution-in-python/26442781#26442781\n",
    "from scipy.stats import lognorm, norm\n",
    "\n",
    "(s, loc, scale) = lognorm.fit(student_data.Dvds.values, floc=0)\n",
    "estimated_mu, estimated_sigma = numpy.log(scale), s\n",
    "\n",
    "logdata = numpy.log(student_data.Dvds.values+1)\n",
    "plot.hist(logdata, bins=20, normed=True, color='y')\n",
    "\n",
    "x = numpy.linspace(logdata.min(), logdata.max(), 40)\n",
    "pdf = norm.pdf(x, loc=estimated_mu, scale=estimated_sigma)\n",
    "plot.plot(x, pdf, 'r--')\n",
    "\n",
    "seaborn.despine()"
   ]
  },
  {
   "cell_type": "code",
   "execution_count": 7,
   "metadata": {
    "collapsed": false
   },
   "outputs": [
    {
     "data": {
      "text/plain": [
       "count    559.000000\n",
       "mean      26.228569\n",
       "std       27.782842\n",
       "min        0.000000\n",
       "2.5%       0.000000\n",
       "25%       10.000000\n",
       "50%       17.000000\n",
       "75%       30.000000\n",
       "97.5%    100.450000\n",
       "max      180.000000\n",
       "Name: Haircut, dtype: float64"
      ]
     },
     "execution_count": 7,
     "metadata": {},
     "output_type": "execute_result"
    }
   ],
   "source": [
    "student_data.Haircut.describe(percentiles=[.025, .25, .5, .75, .975])"
   ]
  },
  {
   "cell_type": "code",
   "execution_count": 8,
   "metadata": {
    "collapsed": false
   },
   "outputs": [
    {
     "data": {
      "text/plain": [
       "Gender  Drink\n",
       "female  milk      55\n",
       "        pop       94\n",
       "        water    215\n",
       "male    milk      42\n",
       "        pop       60\n",
       "        water     93\n",
       "Name: Student, dtype: int64"
      ]
     },
     "execution_count": 8,
     "metadata": {},
     "output_type": "execute_result"
    }
   ],
   "source": [
    "drinks_by_gender = student_data.groupby(['Gender', 'Drink']).count().Student  # kinda hacky, but it gets us the counts\n",
    "drinks_by_gender"
   ]
  },
  {
   "cell_type": "code",
   "execution_count": 9,
   "metadata": {
    "collapsed": false
   },
   "outputs": [],
   "source": [
    "male_counts = drinks_by_gender['male']\n",
    "female_counts = drinks_by_gender['female']"
   ]
  },
  {
   "cell_type": "code",
   "execution_count": 10,
   "metadata": {
    "collapsed": false
   },
   "outputs": [
    {
     "data": {
      "image/png": "[encoded data removed]",
      "text/plain": [
       "<matplotlib.figure.Figure at 0x109ff3e80>"
      ]
     },
     "metadata": {},
     "output_type": "display_data"
    }
   ],
   "source": [
    "# based on http://matplotlib.org/examples/pylab_examples/bar_stacked.html\n",
    "male_bars = plot.bar(\n",
    "    range(len(male_counts)), \n",
    "    male_counts.values, \n",
    "    align='center', \n",
    "    color='b'\n",
    ")\n",
    "female_bars = plot.bar(\n",
    "    range(len(female_counts)), \n",
    "    female_counts.values, \n",
    "    align='center', \n",
    "    bottom=male_counts.values, \n",
    "    color='g'\n",
    ")\n",
    "plot.xticks(range(len(male_counts)), male_counts.keys())\n",
    "\n",
    "plot.ylabel('Number chosen')\n",
    "plot.title('Student Drink Preferences')\n",
    "plot.legend((male_bars[0], female_bars[0]), ('Male', 'Female'))\n",
    "seaborn.despine()\n"
   ]
  },
  {
   "cell_type": "code",
   "execution_count": 11,
   "metadata": {
    "collapsed": false
   },
   "outputs": [
    {
     "data": {
      "text/plain": [
       "<seaborn.axisgrid.FacetGrid at 0x109f71be0>"
      ]
     },
     "execution_count": 11,
     "metadata": {},
     "output_type": "execute_result"
    },
    {
     "data": {
      "image/png": "[encoded data removed]",
      "text/plain": [
       "<matplotlib.figure.Figure at 0x109f57390>"
      ]
     },
     "metadata": {},
     "output_type": "display_data"
    }
   ],
   "source": [
    "seaborn.lmplot(\"ToSleep\", \"WakeUp\", student_data)\n",
    "# There is a positive coorelation"
   ]
  }
 ],
 "metadata": {
  "kernelspec": {
   "display_name": "Python 3",
   "language": "python",
   "name": "python3"
  },
  "language_info": {
   "codemirror_mode": {
    "name": "ipython",
    "version": 3
   },
   "file_extension": ".py",
   "mimetype": "text/x-python",
   "name": "python",
   "nbconvert_exporter": "python",
   "pygments_lexer": "ipython3",
   "version": "3.5.1"
  }
 },
 "nbformat": 4,
 "nbformat_minor": 0
}

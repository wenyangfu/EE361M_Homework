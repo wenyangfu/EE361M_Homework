{
 "cells": [
  {
   "cell_type": "markdown",
   "metadata": {},
   "source": [
    "## R program:\n",
    "```R\n",
    "library(caret)\n",
    "library(glmnet)\n",
    "\n",
    "prostate.data = read.csv('prostate.csv')\n",
    "\n",
    "set.seed(42)\n",
    "trainIndex <- createDataPartition(prostate.data$lcavol, p = .66667, list=FALSE, times = 1)\n",
    "\n",
    "prostate.train <- prostate.data[trainIndex,]\n",
    "prostate.test <- prostate.data[-trainIndex,]\n",
    "\n",
    "prostate.train.features <- prostate.train[-c(1)]\n",
    "prostate.train.response <- prostate.train[c(1)]\n",
    "\n",
    "prostate.test.features <- prostate.test[-c(1)]\n",
    "prostate.test.response <- prostate.test[c(1)]\n",
    "\n",
    "prostate.train.features.matrix <- as.matrix(prostate.train.features)\n",
    "prostate.train.response.matrix <- as.matrix(prostate.train.response)\n",
    "\n",
    "prostate.test.features.matrix <- as.matrix(prostate.test.features)\n",
    "prostate.test.response.matrix <- as.matrix(prostate.test.response)\n",
    "\n",
    "ridge.cv <- cv.glmnet(\n",
    "  prostate.train.features.matrix,\n",
    "  prostate.train.response.matrix,\n",
    "  alpha=0,\n",
    "  nfold=5,\n",
    "  lambda=c(0.00001, 0.0001,0.001, 0.005, 0.01, 0.05, 0.1, 1, 5, 10, 100) # 0.05 is best\n",
    ")\n",
    "plot(ridge.cv)\n",
    "\n",
    "lasso.cv <- cv.glmnet(\n",
    "  prostate.train.features.matrix,\n",
    "  prostate.train.response.matrix,\n",
    "  alpha=1,\n",
    "  nfold=5,\n",
    "  lambda=c(0.0001, 0.0005, 0.001, 0.005, 0.01, 0.05, 0.1, 0.2, 0.3, 0.4, 0.5) # 0.1 is best\n",
    ")\n",
    "plot(lasso.cv)\n",
    "\n",
    "ridge <- glmnet(prostate.train.features.matrix, prostate.train.response.matrix, alpha=0)\n",
    "lasso <- glmnet(prostate.train.features.matrix, prostate.train.response.matrix, alpha=1)\n",
    "\n",
    "plot(ridge,xvar=\"lambda\")\n",
    "plot(lasso,xvar=\"lambda\")\n",
    "\n",
    "leastsquares.all <- lm(lcavol ~ lweight + age + lbph + svi + lcp + gleason + pgg45 + lpsa, data=prostate.train)\n",
    "print(\"Least Squares Regression\")\n",
    "print(mean(se(prostate.test.response, predict(leastsquares.all, prostate.test))))\n",
    "\n",
    "print(\"Ridge Regression\")\n",
    "print(mean(se(prostate.test.response, predict(ridge.cv, prostate.test.features.matrix, s=0.05))))\n",
    "\n",
    "print(\"Lasso Regression\")\n",
    "print(mean(se(prostate.test.response, predict(lasso.cv, prostate.test.features.matrix, s=0.1))))\n",
    "print(coef(lasso.cv))\n",
    "\n",
    "leastsquares.remaining <- lm(lcavol ~ lcp + lpsa, data=prostate.train)\n",
    "print(\"Least Squares Regression with Non-Zero Lasso\")\n",
    "print(mean(se(prostate.test.response, predict(leastsquares.remaining, prostate.test))))\n",
    "```"
   ]
  },
  {
   "cell_type": "markdown",
   "metadata": {},
   "source": [
    "### Ridge Cross-Validation\n",
    "<img src=\"ridge_cv.png\" />\n",
    "\n",
    "**Optimal lambda is 0.05**"
   ]
  },
  {
   "cell_type": "markdown",
   "metadata": {},
   "source": [
    "### Lasso Cross-Validation\n",
    "<img src=\"lasso_cv.png\" />\n",
    "**Optimal lambda is 0.1**"
   ]
  },
  {
   "cell_type": "markdown",
   "metadata": {},
   "source": [
    "### Ridge Coefficients vs Lambda\n",
    "<img src=\"ridge_coeff.png\" />"
   ]
  },
  {
   "cell_type": "markdown",
   "metadata": {},
   "source": [
    "### Lasso Coefficients vs Lambda\n",
    "\n",
    "<img src=\"lasso_coeff.png\" />"
   ]
  },
  {
   "cell_type": "markdown",
   "metadata": {},
   "source": [
    "### Optimal Lasso Coefficients\n",
    "\n",
    "```\n",
    "(Intercept) 0.4868851\n",
    "lweight     .        \n",
    "age         .        \n",
    "lbph        .        \n",
    "svi         .        \n",
    "lcp         0.1663366\n",
    "gleason     .        \n",
    "pgg45       .        \n",
    "lpsa        0.3567801\n",
    "```"
   ]
  },
  {
   "cell_type": "markdown",
   "metadata": {},
   "source": [
    "### Prediction Errors of Regressions\n",
    "\n",
    "* Linear Regression, all variables: 0.4469268\n",
    "* Ridge Regression: 0.4300453\n",
    "* Lasso Regression: 0.4295051\n",
    "* Linear Regression, non-zero Lasso Variables: 0.398629"
   ]
  }
 ],
 "metadata": {
  "kernelspec": {
   "display_name": "Python 3",
   "language": "python",
   "name": "python3"
  },
  "language_info": {
   "codemirror_mode": {
    "name": "ipython",
    "version": 3
   },
   "file_extension": ".py",
   "mimetype": "text/x-python",
   "name": "python",
   "nbconvert_exporter": "python",
   "pygments_lexer": "ipython3",
   "version": "3.4.3"
  }
 },
 "nbformat": 4,
 "nbformat_minor": 0
}

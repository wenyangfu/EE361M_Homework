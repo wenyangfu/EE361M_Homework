{
 "cells": [
  {
   "cell_type": "markdown",
   "metadata": {},
   "source": [
    "## EE 361M - Assignment #3\n",
    "### Rohan Nagar, Zuhair Parvez, Wenyang Fu"
   ]
  },
  {
   "cell_type": "markdown",
   "metadata": {},
   "source": [
    "## Question 1 (2+1 = 3 points)\n",
    "\n",
    "View the video at:\n",
    "\n",
    "https://www.youtube.com/watch?v=jbkSRLYSojo\n",
    "\n",
    "(Hans Rosling's 200 Countries, 200 Years, 4 Minutes) and answer the following questions:\n",
    "\n",
    "1. How many variables are being visualized in the “moving bubble plots” video (list them)?\n",
    "\n",
    "2. Identify a variable that is “zoomed into”, i.e., examined at a sub-category or more detailed level."
   ]
  },
  {
   "cell_type": "markdown",
   "metadata": {},
   "source": [
    "### Question 1.1\n",
    "\n",
    "Four variables are being visualized:\n",
    "\n",
    "1. Average Health (Life Expectancy) in each country\n",
    "2. Average Wealth (Income per person) in each country\n",
    "3. Time\n",
    "4. Population\n",
    "\n",
    "Health is on the y-axis, wealth is on the x-axis, time is visualized as the bubbles move, and population is the size of each bubble."
   ]
  },
  {
   "cell_type": "markdown",
   "metadata": {},
   "source": [
    "### Question 1.2\n",
    "\n",
    "The average health and average wealth variables are examined at a sub category. In the video, he splits up the bubble for China into some of the provinces in China. These sub-bubbles can be placed on the grid, and we can see that there is a wide variation even within countries themselves."
   ]
  },
  {
   "cell_type": "markdown",
   "metadata": {},
   "source": [
    "## Question 2 (3+3+2+2=10 points)\n",
    "\n",
    "In this question, you will explore the application of Lasso and Ridge regression using sklearn package in Python. The dataset is prostate cancer data. The data can be found on canvas on the homework 3 page as prostate.csv. More information on the data can be found [here](https://cran.r-project.org/web/packages/ElemStatLearn/ElemStatLearn.pdf) under prostate. Use a random state of 42 and a test size of 1/3 to [split the data into training and test](http://scikit-learn.org/stable/modules/generated/sklearn.cross_validation.train_test_split.html). We will be using all the variables to predict lcavol. \n",
    "\n",
    "1. Use sklearn.linear_model.Lasso and sklearn.linear_model.Ridge classes to do a [5-fold cross validation](http://scikit-learn.org/stable/auto_examples/exercises/plot_cv_diabetes.html#example-exercises-plot-cv-diabetes-py) using sklearn's [KFold](http://scikit-learn.org/stable/modules/generated/sklearn.cross_validation.KFold.html). For the sweep of the regularization parameter lambda (Note: lambda is called alpha in sklearn), use [0.00001, 0.0001,0.001, 0.005, 0.01, 0.05, 0.1, 1, 5, 10, 100]  for ridge and [0.0001, 0.0005, 0.001, 0.005, 0.01, 0.05, 0.1, 0.2, 0.3, 0.4, 0.5] for lasso. Report the best chosen based on cross-validation. The cross validation should happen on your training data using  average MSE as the scoring metric.\n",
    "2. Run ridge and lasso for all of the parameters specified above (on all training data), and plot the coefficients learned for each of them - there should be one plot each for lasso and ridge, so a total of two plots; the plots for different features for a method should be on the same plot (e.g. Fig 6.6 of JW). What do you qualitatively observe when value of the regularization parameter is changed? \n",
    "3. Run least squares regression, ridge, and lasso on the full training data. For ridge and lasso, use only the best regularization parameter. Report the prediction error on the test data for each.\n",
    "4. For the best lasso parameter, determine the variables that were not dropped. Using only these variables, run least squares regression on full training data and report the prediction error on the test data."
   ]
  },
  {
   "cell_type": "markdown",
   "metadata": {},
   "source": [
    "### Question 2.1"
   ]
  },
  {
   "cell_type": "code",
   "execution_count": 3,
   "metadata": {
    "collapsed": false
   },
   "outputs": [
    {
     "name": "stdout",
     "output_type": "stream",
     "text": [
      "     lcavol   lweight  age      lbph  svi       lcp  gleason  pgg45      lpsa\n",
      "0 -0.579818  2.769459   50 -1.386294    0 -1.386294        6      0 -0.430783\n",
      "1 -0.994252  3.319626   58 -1.386294    0 -1.386294        6      0 -0.162519\n",
      "2 -0.510826  2.691243   74 -1.386294    0 -1.386294        7     20 -0.162519\n",
      "3 -1.203973  3.282789   58 -1.386294    0 -1.386294        6      0 -0.162519\n",
      "4  0.751416  3.432373   62 -1.386294    0 -1.386294        6      0  0.371564\n"
     ]
    }
   ],
   "source": [
    "import pandas as pd\n",
    "import numpy as np\n",
    "\n",
    "data = pd.read_csv('prostate.csv')\n",
    "print(data.head(5))"
   ]
  },
  {
   "cell_type": "code",
   "execution_count": 2,
   "metadata": {
    "collapsed": false
   },
   "outputs": [
    {
     "name": "stdout",
     "output_type": "stream",
     "text": [
      "Ridge Regression Model Scores:\n",
      "lambda = 1e-05, score = 0.6268401311040128\n",
      "lambda = 0.0001, score = 0.626838042779035\n",
      "lambda = 0.001, score = 0.6268171641097615\n",
      "lambda = 0.005, score = 0.6267244706545755\n",
      "lambda = 0.01, score = 0.6266088342831418\n",
      "lambda = 0.05, score = 0.6256928456994651\n",
      "lambda = 0.1, score = 0.6245700714740547\n",
      "lambda = 1, score = 0.6077390407203707\n",
      "lambda = 5, score = 0.5695286039933147\n",
      "lambda = 10, score = 0.5521097883449718\n",
      "lambda = 100, score = 0.7435368294670907\n",
      "The best Ridge Regression model has a lambda of: 10\n",
      "        with an average MSE of: 0.5521097883449718\n",
      "Lasso Model Scores:\n",
      "lambda = 0.0001, score = 0.6264300066359773\n",
      "lambda = 0.0005, score = 0.6247922049995644\n",
      "lambda = 0.001, score = 0.6227764992784917\n",
      "lambda = 0.005, score = 0.6088042149745041\n",
      "lambda = 0.01, score = 0.5944291516960878\n",
      "lambda = 0.05, score = 0.5628138482345022\n",
      "lambda = 0.1, score = 0.5601228752641442\n",
      "lambda = 0.2, score = 0.5821603218309226\n",
      "lambda = 0.3, score = 0.6492888232278051\n",
      "lambda = 0.4, score = 0.7582628833466061\n",
      "lambda = 0.5, score = 0.9051509548138089\n",
      "The best Lasso Regression model has a lambda of: 0.1\n",
      "        with an average MSE of: 0.5601228752641442\n"
     ]
    }
   ],
   "source": [
    "from sklearn.linear_model import Ridge, Lasso\n",
    "from sklearn.cross_validation import train_test_split, cross_val_score\n",
    "from sklearn.metrics import accuracy_score\n",
    "\n",
    "# Slice columns - We want to predict lcavol given everything else.\n",
    "X, y = data.iloc[:, 1:], data.iloc[:, 0]\n",
    "\n",
    "# Split data into training and test sets\n",
    "X_train, X_test, y_train, y_test = train_test_split(\n",
    "    X, y, test_size=0.33, random_state=42)\n",
    "# KFold object is made redundant by cv=5 parameter in cross_validation.cross_val_score\n",
    "# kf = KFold(len(X_train), n_folds=5) # 5-fold cross validation iterator\n",
    "ridge_clf = Ridge()\n",
    "lasso_clf = Lasso()\n",
    "ridge_scores = []\n",
    "lasso_scores = []\n",
    "# scores_std = []\n",
    "alphas_ridge = [0.00001, 0.0001,0.001, 0.005, 0.01, 0.05, 0.1, 1, 5, 10, 100]\n",
    "alphas_lasso = [0.0001, 0.0005, 0.001, 0.005, 0.01, 0.05, 0.1, 0.2, 0.3, 0.4, 0.5]\n",
    "\n",
    "\n",
    "# Iterate through all regularization parameters for Ridge model\n",
    "for alpha in alphas_ridge:\n",
    "    ridge_clf.alpha = alpha\n",
    "    # Split training data into training and validation sets\n",
    "    # using 5-fold cross validation.\n",
    "    this_scores = cross_val_score(\n",
    "        ridge_clf, X_train, y_train, scoring='mean_squared_error', cv=5)\n",
    "    # Note: https://github.com/scikit-learn/scikit-learn/issues/5023\n",
    "    # cross_val_score will return the negative MSE for some reason,\n",
    "    # so we need to do absolute value on it.\n",
    "    ridge_scores.append(np.fabs(np.mean(this_scores)))\n",
    "#     scores_std.append(np.std(this_scores))\n",
    "    \n",
    "print(\"Ridge Regression Model Scores:\")\n",
    "for index, score in enumerate(ridge_scores):\n",
    "# for i in range(len(scores)):\n",
    "    print(\"lambda = {}, score = {}\".format(alphas_ridge[index] ,score))\n",
    "best_ridge_index = ridge_scores.index(min(ridge_scores))\n",
    "print(\"\"\"The best Ridge Regression model has a lambda of: {}\n",
    "        with an average MSE of: {}\"\"\".format(alphas_ridge[best_ridge_index],\n",
    "        ridge_scores[best_ridge_index]))\n",
    "\n",
    "\n",
    "# Iterate through all regularization parameters for Lasso model\n",
    "for alpha in alphas_lasso:\n",
    "    lasso_clf.alpha = alpha\n",
    "    # Split training data into training and validation sets\n",
    "    # using 5-fold cross validation.\n",
    "    this_scores = cross_val_score(\n",
    "        lasso_clf, X_train, y_train, scoring='mean_squared_error', cv=5)\n",
    "    lasso_scores.append(np.fabs(np.mean(this_scores)))\n",
    "    \n",
    "print(\"Lasso Model Scores:\")\n",
    "for index, score in enumerate(lasso_scores):\n",
    "# for i in range(len(scores)):\n",
    "    print(\"lambda = {}, score = {}\".format(alphas_lasso[index], score))\n",
    "best_lasso_index = lasso_scores.index(min(lasso_scores))\n",
    "print(\"\"\"The best Lasso Regression model has a lambda of: {}\n",
    "        with an average MSE of: {}\"\"\".format(alphas_lasso[best_lasso_index],\n",
    "        lasso_scores[best_lasso_index]))"
   ]
  },
  {
   "cell_type": "markdown",
   "metadata": {},
   "source": [
    "The best Ridge Regression Model has a lambda of 10, with a MSE of ~.55211.\n",
    "\n",
    "The best Lasso Regression Model has a lambda of 0.1, with a MSE of ~.56012.\n",
    "\n",
    "One lesson I learned here was to not prematurely optimize my code. Supposedly, cross_validation.cross_val_score() can be run on multiple CPUs, but my code ended up taking ~30 times longer to run when I ran cross_val_score() on multiple cores, as opposed to running it on a default single core."
   ]
  },
  {
   "cell_type": "markdown",
   "metadata": {},
   "source": [
    "### Question 2.2"
   ]
  },
  {
   "cell_type": "code",
   "execution_count": 3,
   "metadata": {
    "collapsed": false
   },
   "outputs": [
    {
     "name": "stderr",
     "output_type": "stream",
     "text": [
      "C:\\Anaconda3\\lib\\site-packages\\matplotlib\\__init__.py:872: UserWarning: axes.color_cycle is deprecated and replaced with axes.prop_cycle; please use the latter.\n",
      "  warnings.warn(self.msg_depr % (key, alt_key))\n"
     ]
    },
    {
     "data": {
      "image/png": "[encoded data removed]",
      "text/plain": [
       "<matplotlib.figure.Figure at 0x27238a612b0>"
      ]
     },
     "metadata": {},
     "output_type": "display_data"
    }
   ],
   "source": [
    "import matplotlib.pyplot as plt\n",
    "import seaborn as sns\n",
    "%matplotlib inline\n",
    "\n",
    "###############################################################################\n",
    "# Compute paths\n",
    "\n",
    "ridge_coefs = []\n",
    "for a in alphas_ridge:\n",
    "    ridge_clf.set_params(alpha=a)\n",
    "    ridge_clf.fit(X_train, y_train)\n",
    "    ridge_coefs.append(ridge_clf.coef_)\n",
    "\n",
    "lasso_coefs = []\n",
    "for a in alphas_lasso:\n",
    "    lasso_clf.set_params(alpha=a)\n",
    "    lasso_clf.fit(X_train, y_train)\n",
    "    lasso_coefs.append(lasso_clf.coef_)\n",
    "    \n",
    "###############################################################################\n",
    "# Display results\n",
    "\n",
    "# fig = plt.figure()\n",
    "# ax = fig.add_subplot(1,1,1) # one row, one column, first plot\n",
    "\n",
    "fig, (ax1, ax2) = plt.subplots(nrows=1, ncols=2, sharex=False, figsize=(12,8)) # This code is far more concise!\n",
    "\n",
    "# ax1.set_prop_cycle(color=['b', 'r', 'g', 'c', 'k', 'y', 'm'])\n",
    "ax1.plot(alphas_ridge, ridge_coefs)\n",
    "ax1.set_xscale('log')\n",
    "# ax.set_xlim(ax.get_xlim()[::-1])  # reverse axis\n",
    "ax1.set_title('Ridge coefficients as a function of the regularization parameter')\n",
    "ax1.set_xlabel('lambda')\n",
    "ax1.set_ylabel('weights')\n",
    "ax1.axis('tight')\n",
    "\n",
    "# ax2.set_prop_cycle(color=['b', 'r', 'g', 'c', 'k', 'y', 'm'])\n",
    "ax2.plot(alphas_lasso, lasso_coefs)\n",
    "ax2.set_xscale('log')\n",
    "ax2.set_xlabel('lambda')\n",
    "ax2.set_ylabel('weights')\n",
    "ax2.set_title('Lasso coefficients as a function of the regularization parameter')\n",
    "ax2.axis('tight')\n",
    "plt.show()"
   ]
  },
  {
   "cell_type": "markdown",
   "metadata": {},
   "source": [
    "As the regularization parameter increases, the weights of each model converge."
   ]
  },
  {
   "cell_type": "markdown",
   "metadata": {},
   "source": [
    "### Question 2.3"
   ]
  },
  {
   "cell_type": "code",
   "execution_count": 4,
   "metadata": {
    "collapsed": false
   },
   "outputs": [
    {
     "name": "stdout",
     "output_type": "stream",
     "text": [
      "Least Squares Regression MSE: 0.5437839381731426\n",
      "Ridge Regression MSE: 0.5449942351946779\n",
      "Lasso Regression MSE: 0.5649619867511488\n"
     ]
    }
   ],
   "source": [
    "from sklearn.linear_model import LinearRegression\n",
    "from sklearn.metrics import mean_squared_error\n",
    "\n",
    "###############################################################################\n",
    "# Fit models\n",
    "\n",
    "linear_clf = LinearRegression()\n",
    "ridge_clf.set_params(alpha=10)\n",
    "lasso_clf.set_params(alpha=0.1)\n",
    "\n",
    "linear_clf.fit(X_train, y_train)\n",
    "ridge_clf.fit(X_train, y_train) \n",
    "lasso_clf.fit(X_train, y_train)\n",
    "\n",
    "# linear_score = linear_clf.score(X_test, y_test)\n",
    "# ridge_score = ridge_clf.score(X_test, y_test) \n",
    "# lasso_score = lasso_clf.score(X_test, y_test)\n",
    "\n",
    "linear_score = mean_squared_error(y_test, linear_clf.predict(X_test))\n",
    "ridge_score = mean_squared_error(y_test, ridge_clf.predict(X_test)) \n",
    "lasso_score = mean_squared_error(y_test, lasso_clf.predict(X_test))\n",
    "\n",
    "print(\"Least Squares Regression MSE: {}\".format(linear_score))\n",
    "print(\"Ridge Regression MSE: {}\".format(ridge_score))\n",
    "print(\"Lasso Regression MSE: {}\".format(lasso_score))\n"
   ]
  },
  {
   "cell_type": "markdown",
   "metadata": {},
   "source": [
    "### Question 2.4"
   ]
  },
  {
   "cell_type": "code",
   "execution_count": 5,
   "metadata": {
    "collapsed": false
   },
   "outputs": [
    {
     "name": "stdout",
     "output_type": "stream",
     "text": [
      "Number of non-zero features in Lasso()\n",
      "Number of features remaining: 5\n",
      "Least Squares Regression MSE after feature selection: 0.5418084790847733\n"
     ]
    }
   ],
   "source": [
    "from sklearn.feature_selection import SelectFromModel\n",
    "\n",
    "X_train_reduced = []\n",
    "X_test_reduced = []\n",
    "\n",
    "#########################################################\n",
    "# Sanity Checks\n",
    "print(\"Number of non-zero features in Lasso()\")\n",
    "\n",
    "#########################################################\n",
    "# Feature selection\n",
    "# Use a Lasso model with regularization parameter of 0.1\n",
    "# to discard features with weights <= 0.\n",
    "sfm = SelectFromModel(lasso_clf, threshold=np.nextafter(0,1))\n",
    "X_train_reduced = sfm.fit_transform(X_train, y_train)\n",
    "# Not sure if I'm reducing the test set correctly..\n",
    "X_test_reduced = sfm.transform(X_test)\n",
    "print(\"Number of features remaining: {}\".format(X_test_reduced.shape[1]))\n",
    "\n",
    "#########################################################\n",
    "# Least Squares Regression fit after feature selection\n",
    "linear_clf.fit(X_train_reduced, y_train)\n",
    "\n",
    "#########################################################\n",
    "# Model fitting\n",
    "mse = mean_squared_error(y_test, linear_clf.predict(X_test_reduced))\n",
    "\n",
    "#########################################################\n",
    "# Output Results\n",
    "print(\"Least Squares Regression MSE after feature selection: {}\".format(mse))"
   ]
  },
  {
   "cell_type": "markdown",
   "metadata": {},
   "source": [
    "## Question 3 (3+3+2+2 = 10 points)\n",
    "\n",
    "Re-solve all the questions in question 2 using R. You can submit the code and results via a PDF or other format. Just please make a reference to it in your notebook. See hints.R on the Canvas homework 3 page to help get you started. I would recommend using [RStudio](https://www.rstudio.com/products/rstudio/download/) for your work in R."
   ]
  },
  {
   "cell_type": "markdown",
   "metadata": {},
   "source": [
    "### Solutions to question 3 are attached in the submitted PDF."
   ]
  },
  {
   "cell_type": "markdown",
   "metadata": {},
   "source": [
    "## Question 4 (5+5 = 10 points)\n",
    "\n",
    "1. Derive the coefficent updates, from first principles, for a gradient descent version of linear regression. Hint: start from the cost function. If you write the math by hand, submit that as a separate file and make a reference to it in your notebook or include the image in your notebook.\n",
    "2. Write Python code for a gradient descent version of linear regression. Should be similar to sklearn in that you have a fit function that takes an X, y, learning rate, and number of iterations and a predict funtion that takes an X value. Use your new SGD regression to re-run question 2.4 and compare MSE. Make sure you always normalize your X matrices and use an intercept. You can also compare your results with SGDRegressor from sklearn, but not required."
   ]
  },
  {
   "cell_type": "markdown",
   "metadata": {},
   "source": [
    "### Question 4.1"
   ]
  },
  {
   "cell_type": "markdown",
   "metadata": {},
   "source": [
    "### Question 4.2"
   ]
  },
  {
   "cell_type": "markdown",
   "metadata": {},
   "source": [
    "## Question 5 (2+1+5+2 = 10 points)\n",
    "\n",
    "We will use Google's Tensorflow to create a simple multi-layered perceptron. Installation instructions can be found [here](https://www.tensorflow.org/versions/r0.7/get_started/os_setup.html#pip-installation). To make our lives even easier, we will be using [skflow](https://github.com/tensorflow/skflow). This can be installed via pip install skflow. This is a higher level API on top of tensorflow. You can find documentation on how to get started on the skflow page.\n",
    "\n",
    "To install tensorflow, this command should work (did on Mac):\n",
    "\n",
    "sudo pip install --upgrade https://storage.googleapis.com/tensorflow/mac/tensorflow-0.7.0-py2-none-any.whl --ignore-installed\n",
    "\n",
    "1. Use pandas to get spam classification [data](https://archive.ics.uci.edu/ml/datasets/Spambase) from UCI. Don't worry about getting the column names. The last column is a 1 if spam, zero otherwise.\n",
    "2. Split the data into training and testing using test_size=0.33, random_state=42.\n",
    "3. Use a TensorFlowDNNClassifier to classify whether an email is spam and report your testing accuracy. You should use 1 hidden layer with 5 units, 50,000 steps, and a learning rate of .05. What does each parameter do and why does it matter?\n",
    "4. Compare your accuracy to a logistic regression using sklean. Discuss why one may have performed better than the other. You may also experiment with the architecture of your neural network (i.e. the number of hidden units, the number of nodes, the number of steps, and the learning rate) to see if you can improve your results from part 3."
   ]
  },
  {
   "cell_type": "markdown",
   "metadata": {},
   "source": [
    "### Question 5.1"
   ]
  },
  {
   "cell_type": "code",
   "execution_count": 4,
   "metadata": {
    "collapsed": false
   },
   "outputs": [
    {
     "name": "stdout",
     "output_type": "stream",
     "text": [
      "(4601, 58)\n"
     ]
    },
    {
     "data": {
      "text/html": [
       "<div>\n",
       "<table border=\"1\" class=\"dataframe\">\n",
       "  <thead>\n",
       "    <tr style=\"text-align: right;\">\n",
       "      <th></th>\n",
       "      <th>0</th>\n",
       "      <th>1</th>\n",
       "      <th>2</th>\n",
       "      <th>3</th>\n",
       "      <th>4</th>\n",
       "      <th>5</th>\n",
       "      <th>6</th>\n",
       "      <th>7</th>\n",
       "      <th>8</th>\n",
       "      <th>9</th>\n",
       "      <th>...</th>\n",
       "      <th>48</th>\n",
       "      <th>49</th>\n",
       "      <th>50</th>\n",
       "      <th>51</th>\n",
       "      <th>52</th>\n",
       "      <th>53</th>\n",
       "      <th>54</th>\n",
       "      <th>55</th>\n",
       "      <th>56</th>\n",
       "      <th>57</th>\n",
       "    </tr>\n",
       "  </thead>\n",
       "  <tbody>\n",
       "    <tr>\n",
       "      <th>0</th>\n",
       "      <td>0.00</td>\n",
       "      <td>0.64</td>\n",
       "      <td>0.64</td>\n",
       "      <td>0</td>\n",
       "      <td>0.32</td>\n",
       "      <td>0.00</td>\n",
       "      <td>0.00</td>\n",
       "      <td>0.00</td>\n",
       "      <td>0.00</td>\n",
       "      <td>0.00</td>\n",
       "      <td>...</td>\n",
       "      <td>0.00</td>\n",
       "      <td>0.000</td>\n",
       "      <td>0</td>\n",
       "      <td>0.778</td>\n",
       "      <td>0.000</td>\n",
       "      <td>0.000</td>\n",
       "      <td>3.756</td>\n",
       "      <td>61</td>\n",
       "      <td>278</td>\n",
       "      <td>1</td>\n",
       "    </tr>\n",
       "    <tr>\n",
       "      <th>1</th>\n",
       "      <td>0.21</td>\n",
       "      <td>0.28</td>\n",
       "      <td>0.50</td>\n",
       "      <td>0</td>\n",
       "      <td>0.14</td>\n",
       "      <td>0.28</td>\n",
       "      <td>0.21</td>\n",
       "      <td>0.07</td>\n",
       "      <td>0.00</td>\n",
       "      <td>0.94</td>\n",
       "      <td>...</td>\n",
       "      <td>0.00</td>\n",
       "      <td>0.132</td>\n",
       "      <td>0</td>\n",
       "      <td>0.372</td>\n",
       "      <td>0.180</td>\n",
       "      <td>0.048</td>\n",
       "      <td>5.114</td>\n",
       "      <td>101</td>\n",
       "      <td>1028</td>\n",
       "      <td>1</td>\n",
       "    </tr>\n",
       "    <tr>\n",
       "      <th>2</th>\n",
       "      <td>0.06</td>\n",
       "      <td>0.00</td>\n",
       "      <td>0.71</td>\n",
       "      <td>0</td>\n",
       "      <td>1.23</td>\n",
       "      <td>0.19</td>\n",
       "      <td>0.19</td>\n",
       "      <td>0.12</td>\n",
       "      <td>0.64</td>\n",
       "      <td>0.25</td>\n",
       "      <td>...</td>\n",
       "      <td>0.01</td>\n",
       "      <td>0.143</td>\n",
       "      <td>0</td>\n",
       "      <td>0.276</td>\n",
       "      <td>0.184</td>\n",
       "      <td>0.010</td>\n",
       "      <td>9.821</td>\n",
       "      <td>485</td>\n",
       "      <td>2259</td>\n",
       "      <td>1</td>\n",
       "    </tr>\n",
       "    <tr>\n",
       "      <th>3</th>\n",
       "      <td>0.00</td>\n",
       "      <td>0.00</td>\n",
       "      <td>0.00</td>\n",
       "      <td>0</td>\n",
       "      <td>0.63</td>\n",
       "      <td>0.00</td>\n",
       "      <td>0.31</td>\n",
       "      <td>0.63</td>\n",
       "      <td>0.31</td>\n",
       "      <td>0.63</td>\n",
       "      <td>...</td>\n",
       "      <td>0.00</td>\n",
       "      <td>0.137</td>\n",
       "      <td>0</td>\n",
       "      <td>0.137</td>\n",
       "      <td>0.000</td>\n",
       "      <td>0.000</td>\n",
       "      <td>3.537</td>\n",
       "      <td>40</td>\n",
       "      <td>191</td>\n",
       "      <td>1</td>\n",
       "    </tr>\n",
       "    <tr>\n",
       "      <th>4</th>\n",
       "      <td>0.00</td>\n",
       "      <td>0.00</td>\n",
       "      <td>0.00</td>\n",
       "      <td>0</td>\n",
       "      <td>0.63</td>\n",
       "      <td>0.00</td>\n",
       "      <td>0.31</td>\n",
       "      <td>0.63</td>\n",
       "      <td>0.31</td>\n",
       "      <td>0.63</td>\n",
       "      <td>...</td>\n",
       "      <td>0.00</td>\n",
       "      <td>0.135</td>\n",
       "      <td>0</td>\n",
       "      <td>0.135</td>\n",
       "      <td>0.000</td>\n",
       "      <td>0.000</td>\n",
       "      <td>3.537</td>\n",
       "      <td>40</td>\n",
       "      <td>191</td>\n",
       "      <td>1</td>\n",
       "    </tr>\n",
       "  </tbody>\n",
       "</table>\n",
       "<p>5 rows × 58 columns</p>\n",
       "</div>"
      ],
      "text/plain": [
       "     0     1     2   3     4     5     6     7     8     9  ...    48     49  \\\n",
       "0  0.00  0.64  0.64   0  0.32  0.00  0.00  0.00  0.00  0.00 ...  0.00  0.000   \n",
       "1  0.21  0.28  0.50   0  0.14  0.28  0.21  0.07  0.00  0.94 ...  0.00  0.132   \n",
       "2  0.06  0.00  0.71   0  1.23  0.19  0.19  0.12  0.64  0.25 ...  0.01  0.143   \n",
       "3  0.00  0.00  0.00   0  0.63  0.00  0.31  0.63  0.31  0.63 ...  0.00  0.137   \n",
       "4  0.00  0.00  0.00   0  0.63  0.00  0.31  0.63  0.31  0.63 ...  0.00  0.135   \n",
       "\n",
       "   50     51     52     53     54   55    56  57  \n",
       "0   0  0.778  0.000  0.000  3.756   61   278   1  \n",
       "1   0  0.372  0.180  0.048  5.114  101  1028   1  \n",
       "2   0  0.276  0.184  0.010  9.821  485  2259   1  \n",
       "3   0  0.137  0.000  0.000  3.537   40   191   1  \n",
       "4   0  0.135  0.000  0.000  3.537   40   191   1  \n",
       "\n",
       "[5 rows x 58 columns]"
      ]
     },
     "execution_count": 4,
     "metadata": {},
     "output_type": "execute_result"
    }
   ],
   "source": [
    "# Load the data\n",
    "data = pd.read_csv(\"https://archive.ics.uci.edu/ml/machine-learning-databases/spambase/spambase.data\", header=None)\n",
    "data = data.dropna()\n",
    "\n",
    "print(data.shape)\n",
    "data.head()"
   ]
  },
  {
   "cell_type": "markdown",
   "metadata": {},
   "source": [
    "### Question 5.2"
   ]
  },
  {
   "cell_type": "code",
   "execution_count": 10,
   "metadata": {
    "collapsed": false
   },
   "outputs": [],
   "source": [
    "# Split data into train and test\n",
    "indep_data = data.iloc[:,:57]\n",
    "dep_data = data[57]\n",
    "indep_train, indep_test, dep_train, dep_test = train_test_split(indep_data, dep_data, test_size=0.33, random_state=42)"
   ]
  },
  {
   "cell_type": "markdown",
   "metadata": {},
   "source": [
    "### Question 5.3"
   ]
  },
  {
   "cell_type": "code",
   "execution_count": 11,
   "metadata": {
    "collapsed": false
   },
   "outputs": [
    {
     "name": "stdout",
     "output_type": "stream",
     "text": [
      "Step #1, avg. loss: 5.17732\n",
      "Step #5001, epoch #51, avg. loss: 0.80931\n",
      "Step #10001, epoch #103, avg. loss: 0.85908\n",
      "Step #15001, epoch #154, avg. loss: 0.77170\n",
      "Step #20001, epoch #206, avg. loss: 0.72194\n",
      "Step #25001, epoch #257, avg. loss: 0.69393\n",
      "Step #30001, epoch #309, avg. loss: 0.63862\n",
      "Step #35001, epoch #360, avg. loss: 0.62803\n",
      "Step #40001, epoch #412, avg. loss: 0.63735\n",
      "Step #45001, epoch #463, avg. loss: 0.62265\n",
      "Accuracy: 0.748519\n"
     ]
    }
   ],
   "source": [
    "import skflow\n",
    "\n",
    "classifier = skflow.TensorFlowDNNClassifier(hidden_units=[5], n_classes=2, steps=50000, learning_rate=0.05)\n",
    "classifier.fit(indep_train, dep_train)\n",
    "score = accuracy_score(classifier.predict(indep_test), dep_test)\n",
    "print(\"Accuracy: %f\" % score)"
   ]
  },
  {
   "cell_type": "markdown",
   "metadata": {},
   "source": [
    "The `hidden_units` parameter tells the function how many layers and hidden units per layer there should be. In our case, we only have one layer (since there is only one number in the list), and that layer has 5 hidden units. This matters because it is the number of nonlinear transformations that the input data will go through before it goes through the output layer.\n",
    "\n",
    "The `n_classes` parameter tells the network how many classifications the independent variable has. In our case, we have 2, the email is either spam or not spam.\n",
    "\n",
    "The `steps` parameter is the iteration count. This is how long we want to train for. The higher the number, the more epochs we will go through which means we will iterate through the data more. This is important because we need to determine the right amount of epochs to train on to reduce error.\n",
    "\n",
    "The `learning_rate` parameter is the speed of the training. Since stochastic gradient decsent is used to update the weights, we have to provide this learning_rate. The higher the learning rate, the more we will change the weights by after each iteration. It is important to get a learning rate that is not too high and not too low, so that we are able to settle into the optimum nicely."
   ]
  },
  {
   "cell_type": "markdown",
   "metadata": {},
   "source": [
    "### Question 5.4"
   ]
  },
  {
   "cell_type": "code",
   "execution_count": 12,
   "metadata": {
    "collapsed": false
   },
   "outputs": [
    {
     "name": "stdout",
     "output_type": "stream",
     "text": [
      "Accuracy: 0.930876\n"
     ]
    }
   ],
   "source": [
    "regr = linear_model.LogisticRegression()\n",
    "regr.fit(indep_train, dep_train)\n",
    "score = accuracy_score(regr.predict(indep_test), dep_test)\n",
    "print(\"Accuracy: %f\" % score)"
   ]
  },
  {
   "cell_type": "markdown",
   "metadata": {},
   "source": [
    "Logistic regression performed very well in this situation. This could be because our multi-layered perceptron network did not have the right number of hidden units, steps, or learning rate. Tweaking these parameters could have a significant effect on the final model. As we have seen in class, there are cases of overfitting and underfitting, and getting it right in the sweet spot is more difficult (requires validation and testing, which we didn't do). So these parameters could have been not as good as they could be, which could cause the difference in accuracy. Also, logistic regression is very good at binary classification, which is what we have here. That is another reason that the logistic regression model performed better."
   ]
  },
  {
   "cell_type": "markdown",
   "metadata": {},
   "source": [
    "## Question 6 (2+2+3 = 7 points)\n",
    "\n",
    "1. State briefly what you understand by the bias-variance tradeoff.\n",
    "\n",
    "2. For a given model and problem, what happens to these two quantities when the amount of training data available decreases, keeping all other factors remaining the same ( e.g. if 5-fold CV was used to train the original model, the same is used for the smaller dataset)?\n",
    "\n",
    "3. Suppose you want to approximate the pdf of a continuous random variable $X$, that takes on values over the interval (a,b), as follows: Get $N$ i.i.d samples of $X$; bin the interval into $k$ equi-spaced bins, and construct a histogram, which you then normalize so that total area under the histogram is 1. This normalized histogram will be an approximation of the true pdf. Clearly the histogram will change if you repeat this experiment using another $N$ samples; hence you can consider the quality of the solution in term of the 'mean' histogram (bias) and the variations among the histograms (variance).  Qualitatively explain how you would expect the bias-variance tradeoff to be reflected in this situation, as a function of $k$."
   ]
  },
  {
   "cell_type": "markdown",
   "metadata": {},
   "source": [
    "### Question 6.1"
   ]
  },
  {
   "cell_type": "markdown",
   "metadata": {},
   "source": [
    "First, we should define bias and variance. Bias is how good your average model is, while variance is how sensitive the model is to variations in data.\n",
    "\n",
    "Bias and variance are a tradeoff. If the model that we are trying to obtain is simpler, then the bias will grow larger while the variance becomes smaller. On the other hand, if the model we are trying to obtain is more complex, then the bias will shrink while the variance gets larger.\n",
    "\n",
    "This is because with a simple model, changes in data will not cause big changes in the model. However, in a simple model it's much harder to get to the true model. For example, if you are fitting a linear line to a model that should be sinusoidal, it will be very hard to hit the true model.\n",
    "\n",
    "On the other hand, for a complex model, variations in data can cause your model to change drastically. But, you can get closer to the true model because you are able to fit more precisely."
   ]
  },
  {
   "cell_type": "markdown",
   "metadata": {},
   "source": [
    "### Question 6.2"
   ]
  },
  {
   "cell_type": "markdown",
   "metadata": {},
   "source": [
    "If the amount of training data decreases, then our variance will increase. This is beacuse with less data, we cannot fit as complex a model. If we try to, then we run the risk of overfitting, which means that slight changes in data will drastically change our model.\n",
    "\n",
    "Our bias will stay the same, however. This is beacuse it doesn't matter if we average one piece at a time or 100 at a time -- at the end our average of averages will remain the same."
   ]
  },
  {
   "cell_type": "markdown",
   "metadata": {},
   "source": [
    "### Question 6.3"
   ]
  },
  {
   "cell_type": "markdown",
   "metadata": {},
   "source": [
    "$k$ is our number of bins. As we increase $k$, we would expect the bias to become smaller and the variance to become higher. This is like our \"complex\" model. With more bins, less data is going to fall into each bin. This means that with varying sets of data, the number of data points in each bin can change drastically. This amounts to high variance. But of course, our bias will go down because our average histogram pdf will be closer to the true pdf. With more bins (and taking the average of all our models), we can get more fine grained toward seeing the true pdf.\n",
    "\n",
    "As we decrease $k$, we would expect the bias to grow larger and the variance to become smaller. This is like our \"simple\" model. With few bins, more data will fall into each bin, so with different sets of data not much will change in the model. However, the average solution will be much further from the actual pdf, since we have fewer bins and less room for accuracy."
   ]
  }
 ],
 "metadata": {
  "kernelspec": {
   "display_name": "Python 3",
   "language": "python",
   "name": "python3"
  },
  "language_info": {
   "codemirror_mode": {
    "name": "ipython",
    "version": 3
   },
   "file_extension": ".py",
   "mimetype": "text/x-python",
   "name": "python",
   "nbconvert_exporter": "python",
   "pygments_lexer": "ipython3",
   "version": "3.5.1"
  }
 },
 "nbformat": 4,
 "nbformat_minor": 0
}
